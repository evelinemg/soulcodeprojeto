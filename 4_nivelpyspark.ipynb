{
 "cells": [
  {
   "cell_type": "code",
   "execution_count": 3,
   "id": "13356483-3f20-4568-84c4-8c3355af2f75",
   "metadata": {},
   "outputs": [],
   "source": [
    "%run 2_dados.ipynb"
   ]
  },
  {
   "cell_type": "markdown",
   "id": "dec306b8-bce7-4347-9fd6-892dbf23e730",
   "metadata": {},
   "source": [
    "#### Cria sessão Pyspark"
   ]
  },
  {
   "cell_type": "code",
   "execution_count": 4,
   "id": "5f17df39-aef6-4f60-988c-c3d0e401bbe8",
   "metadata": {},
   "outputs": [],
   "source": [
    "spark = (SparkSession.builder\n",
    "        .master(\"local\")\n",
    "        .appName(\"projetosoulcode\")\n",
    "        .config('spark.jars','gcs-connector-hadoop3-latest.jar' )\n",
    "        .config('spark.hadoop.fs.gs.impl','com.google.cloud.hadoop.fs.gcs.GoogleHadoopFileSystem')\n",
    "        .config('spark.hadoop.fs.gs.auth.service.account.enable', 'true')\n",
    "        .config(\"spark.hadoop.google.cloud.auth.service.account.json.keyfile\",'soulcodeproject-44ce61622773.json')\n",
    "        .config('spark.hadoop.fs.gs.project.id','soulcodeproject')\n",
    "        .getOrCreate())\n",
    "spark.conf.set(\"spark.sql.caseSensitive\", \"true\")"
   ]
  },
  {
   "cell_type": "markdown",
   "id": "496d3d1e-916b-475e-9263-727e12786351",
   "metadata": {},
   "source": [
    "#### Novo header traduzido"
   ]
  },
  {
   "cell_type": "code",
   "execution_count": 5,
   "id": "cf178fa0-d914-4844-89c1-70a7d6f22473",
   "metadata": {},
   "outputs": [],
   "source": [
    "schema = (\n",
    "    StructType([\n",
    "        StructField(\"ID\",IntegerType(), False),\n",
    "        StructField(\"AnoNascimento\", IntegerType(), False),\n",
    "        StructField(\"GrauInstrucao\", StringType(), True),\n",
    "        StructField(\"EstadoCivil\", StringType(), True),\n",
    "        StructField(\"Renda\", DoubleType(), True),\n",
    "        StructField(\"NumCrianca\", IntegerType(), True),\n",
    "        StructField(\"NumAdolescente\", IntegerType(), True),\n",
    "        StructField(\"DataConta\", StringType(), True),\n",
    "        StructField(\"UltimaCompra\", IntegerType(), True),\n",
    "        StructField(\"QtdVinho\", IntegerType(), True),\n",
    "        StructField(\"QtdFrutas\", IntegerType(), True),\n",
    "        StructField(\"QtdCarne\", IntegerType(), True),\n",
    "        StructField(\"QtdPeixe\", IntegerType(), True),\n",
    "        StructField(\"QtdDoces\", IntegerType(), True),\n",
    "        StructField(\"QtdOuro\", IntegerType(), True),\n",
    "        StructField(\"QtdComprasDesconto\", IntegerType(), True),\n",
    "        StructField(\"QtdComprasWeb\", IntegerType(), True),\n",
    "        StructField(\"QtdCompraCatalogo\", IntegerType(), True),\n",
    "        StructField(\"QtdCompraLoja\", IntegerType(), True),\n",
    "        StructField(\"NumVisitasSite\", IntegerType(), True),\n",
    "        StructField(\"AceitouCam3\", IntegerType(), True),\n",
    "        StructField(\"AceitouCam4\", IntegerType(), True),\n",
    "        StructField(\"AceitouCam5\", IntegerType(), True),\n",
    "        StructField(\"AceitouCam1\", IntegerType(), True),\n",
    "        StructField(\"AceitouCam2\", IntegerType(), True),\n",
    "        StructField(\"Reclamacao\", IntegerType(), True),\n",
    "        StructField(\"CustoContato\", IntegerType(), True),\n",
    "        StructField(\"Receita\", IntegerType(), True),\n",
    "        StructField(\"UltimaCampanha\", IntegerType(), True),\n",
    "    ])\n",
    ")"
   ]
  },
  {
   "cell_type": "markdown",
   "id": "6dc9dd0f-4c7d-4a40-9247-e4eb9146c163",
   "metadata": {},
   "source": [
    "#### Leitura do arquivo CSV que está na Bucket GCS"
   ]
  },
  {
   "cell_type": "code",
   "execution_count": 6,
   "id": "cc5e2aea-3430-45e0-ad90-2146e93d4c5a",
   "metadata": {},
   "outputs": [
    {
     "name": "stdout",
     "output_type": "stream",
     "text": [
      "+----+-------------+-------------+-----------+-------+----------+--------------+----------+------------+--------+---------+--------+--------+--------+-------+------------------+-------------+-----------------+-------------+--------------+-----------+-----------+-----------+-----------+-----------+----------+------------+-------+--------------+\n",
      "|  ID|AnoNascimento|GrauInstrucao|EstadoCivil|  Renda|NumCrianca|NumAdolescente| DataConta|UltimaCompra|QtdVinho|QtdFrutas|QtdCarne|QtdPeixe|QtdDoces|QtdOuro|QtdComprasDesconto|QtdComprasWeb|QtdCompraCatalogo|QtdCompraLoja|NumVisitasSite|AceitouCam3|AceitouCam4|AceitouCam5|AceitouCam1|AceitouCam2|Reclamacao|CustoContato|Receita|UltimaCampanha|\n",
      "+----+-------------+-------------+-----------+-------+----------+--------------+----------+------------+--------+---------+--------+--------+--------+-------+------------------+-------------+-----------------+-------------+--------------+-----------+-----------+-----------+-----------+-----------+----------+------------+-------+--------------+\n",
      "|5524|         1957|   Graduation|     Single|58138.0|         0|             0|04-09-2012|          58|     635|       88|     546|     172|      88|     88|                 3|            8|               10|            4|             7|          0|          0|          0|          0|          0|         0|           3|     11|             1|\n",
      "|2174|         1954|   Graduation|     Single|46344.0|         1|             1|08-03-2014|          38|      11|        1|       6|       2|       1|      6|                 2|            1|                1|            2|             5|          0|          0|          0|          0|          0|         0|           3|     11|             0|\n",
      "|4141|         1965|   Graduation|   Together|71613.0|         0|             0|21-08-2013|          26|     426|       49|     127|     111|      21|     42|                 1|            8|                2|           10|             4|          0|          0|          0|          0|          0|         0|           3|     11|             0|\n",
      "|6182|         1984|   Graduation|   Together|26646.0|         1|             0|10-02-2014|          26|      11|        4|      20|      10|       3|      5|                 2|            2|                0|            4|             6|          0|          0|          0|          0|          0|         0|           3|     11|             0|\n",
      "|5324|         1981|          PhD|    Married|58293.0|         1|             0|19-01-2014|          94|     173|       43|     118|      46|      27|     15|                 5|            5|                3|            6|             5|          0|          0|          0|          0|          0|         0|           3|     11|             0|\n",
      "|7446|         1967|       Master|   Together|62513.0|         0|             1|09-09-2013|          16|     520|       42|      98|       0|      42|     14|                 2|            6|                4|           10|             6|          0|          0|          0|          0|          0|         0|           3|     11|             0|\n",
      "| 965|         1971|   Graduation|   Divorced|55635.0|         0|             1|13-11-2012|          34|     235|       65|     164|      50|      49|     27|                 4|            7|                3|            7|             6|          0|          0|          0|          0|          0|         0|           3|     11|             0|\n",
      "|6177|         1985|          PhD|    Married|33454.0|         1|             0|08-05-2013|          32|      76|       10|      56|       3|       1|     23|                 2|            4|                0|            4|             8|          0|          0|          0|          0|          0|         0|           3|     11|             0|\n",
      "|4855|         1974|          PhD|   Together|30351.0|         1|             0|06-06-2013|          19|      14|        0|      24|       3|       3|      2|                 1|            3|                0|            2|             9|          0|          0|          0|          0|          0|         0|           3|     11|             1|\n",
      "|5899|         1950|          PhD|   Together| 5648.0|         1|             1|13-03-2014|          68|      28|        0|       6|       1|       1|     13|                 1|            1|                0|            0|            20|          1|          0|          0|          0|          0|         0|           3|     11|             0|\n",
      "|1994|         1983|   Graduation|    Married|   null|         1|             0|15-11-2013|          11|       5|        5|       6|       0|       2|      1|                 1|            1|                0|            2|             7|          0|          0|          0|          0|          0|         0|           3|     11|             0|\n",
      "| 387|         1976|        Basic|    Married| 7500.0|         0|             0|13-11-2012|          59|       6|       16|      11|      11|       1|     16|                 1|            2|                0|            3|             8|          0|          0|          0|          0|          0|         0|           3|     11|             0|\n",
      "|2125|         1959|   Graduation|   Divorced|63033.0|         0|             0|15-11-2013|          82|     194|       61|     480|     225|     112|     30|                 1|            3|                4|            8|             2|          0|          0|          0|          0|          0|         0|           3|     11|             0|\n",
      "|8180|         1952|       Master|   Divorced|59354.0|         1|             1|15-11-2013|          53|     233|        2|      53|       3|       5|     14|                 3|            6|                1|            5|             6|          0|          0|          0|          0|          0|         0|           3|     11|             0|\n",
      "|2569|         1987|   Graduation|    Married|17323.0|         0|             0|10-10-2012|          38|       3|       14|      17|       6|       1|      5|                 1|            1|                0|            3|             8|          0|          0|          0|          0|          0|         0|           3|     11|             0|\n",
      "|2114|         1946|          PhD|     Single|82800.0|         0|             0|24-11-2012|          23|    1006|       22|     115|      59|      68|     45|                 1|            7|                6|           12|             3|          0|          0|          1|          1|          0|         0|           3|     11|             1|\n",
      "|9736|         1980|   Graduation|    Married|41850.0|         1|             1|24-12-2012|          51|      53|        5|      19|       2|      13|      4|                 3|            3|                0|            3|             8|          0|          0|          0|          0|          0|         0|           3|     11|             0|\n",
      "|4939|         1946|   Graduation|   Together|37760.0|         0|             0|31-08-2012|          20|      84|        5|      38|     150|      12|     28|                 2|            4|                1|            6|             7|          0|          0|          0|          0|          0|         0|           3|     11|             0|\n",
      "|6565|         1949|       Master|    Married|76995.0|         0|             1|28-03-2013|          91|    1012|       80|     498|       0|      16|    176|                 2|           11|                4|            9|             5|          0|          0|          0|          1|          0|         0|           3|     11|             0|\n",
      "|2278|         1985|     2n Cycle|     Single|33812.0|         1|             0|03-11-2012|          86|       4|       17|      19|      30|      24|     39|                 2|            2|                1|            3|             6|          0|          0|          0|          0|          0|         0|           3|     11|             0|\n",
      "+----+-------------+-------------+-----------+-------+----------+--------------+----------+------------+--------+---------+--------+--------+--------+-------+------------------+-------------+-----------------+-------------+--------------+-----------+-----------+-----------+-----------+-----------+----------+------------+-------+--------------+\n",
      "only showing top 20 rows\n",
      "\n"
     ]
    }
   ],
   "source": [
    "df2= (\n",
    "    spark\n",
    "       .read\n",
    "       .format(\"csv\")\n",
    "       .option(\"header\", \"true\")\n",
    "       .option(\"delimiter\", \",\")\n",
    "       .load('gs://soulcodeprojeto/marketing_campaign.csv',schema=schema)\n",
    ")\n",
    "df2.show()"
   ]
  },
  {
   "cell_type": "markdown",
   "id": "02bf2c22-ffd3-40c3-8790-d8f06a77d678",
   "metadata": {},
   "source": [
    "#### Verifica tamanho do dataframe"
   ]
  },
  {
   "cell_type": "code",
   "execution_count": 7,
   "id": "2984728a-5ac7-44f9-9961-a08fbcec2e4a",
   "metadata": {},
   "outputs": [
    {
     "name": "stdout",
     "output_type": "stream",
     "text": [
      "Quantidade de linhas: 2240 \n",
      "Quantidade de colunas: 29\n"
     ]
    }
   ],
   "source": [
    "print('Quantidade de linhas:',df2.count(),'\\nQuantidade de colunas:',len(df2.columns))"
   ]
  },
  {
   "cell_type": "markdown",
   "id": "eacb3613-b62f-40ef-ad1c-f1768d752b93",
   "metadata": {},
   "source": [
    "#### Tradução das informações sobre o Grau de Instrução dos clientes"
   ]
  },
  {
   "cell_type": "code",
   "execution_count": 8,
   "id": "ee648604-93a1-4e21-a948-8799cbf669f8",
   "metadata": {},
   "outputs": [
    {
     "name": "stdout",
     "output_type": "stream",
     "text": [
      "+-------------+\n",
      "|GrauInstrucao|\n",
      "+-------------+\n",
      "|Segundo Ciclo|\n",
      "|          PhD|\n",
      "|     Graduado|\n",
      "|     Mestrado|\n",
      "|       Básico|\n",
      "+-------------+\n",
      "\n",
      "+----+-------------+-------------+-----------+-------+----------+--------------+----------+------------+--------+---------+--------+--------+--------+-------+------------------+-------------+-----------------+-------------+--------------+-----------+-----------+-----------+-----------+-----------+----------+------------+-------+--------------+\n",
      "|  ID|AnoNascimento|GrauInstrucao|EstadoCivil|  Renda|NumCrianca|NumAdolescente| DataConta|UltimaCompra|QtdVinho|QtdFrutas|QtdCarne|QtdPeixe|QtdDoces|QtdOuro|QtdComprasDesconto|QtdComprasWeb|QtdCompraCatalogo|QtdCompraLoja|NumVisitasSite|AceitouCam3|AceitouCam4|AceitouCam5|AceitouCam1|AceitouCam2|Reclamacao|CustoContato|Receita|UltimaCampanha|\n",
      "+----+-------------+-------------+-----------+-------+----------+--------------+----------+------------+--------+---------+--------+--------+--------+-------+------------------+-------------+-----------------+-------------+--------------+-----------+-----------+-----------+-----------+-----------+----------+------------+-------+--------------+\n",
      "|5524|         1957|     Graduado|     Single|58138.0|         0|             0|04-09-2012|          58|     635|       88|     546|     172|      88|     88|                 3|            8|               10|            4|             7|          0|          0|          0|          0|          0|         0|           3|     11|             1|\n",
      "|2174|         1954|     Graduado|     Single|46344.0|         1|             1|08-03-2014|          38|      11|        1|       6|       2|       1|      6|                 2|            1|                1|            2|             5|          0|          0|          0|          0|          0|         0|           3|     11|             0|\n",
      "|4141|         1965|     Graduado|   Together|71613.0|         0|             0|21-08-2013|          26|     426|       49|     127|     111|      21|     42|                 1|            8|                2|           10|             4|          0|          0|          0|          0|          0|         0|           3|     11|             0|\n",
      "|6182|         1984|     Graduado|   Together|26646.0|         1|             0|10-02-2014|          26|      11|        4|      20|      10|       3|      5|                 2|            2|                0|            4|             6|          0|          0|          0|          0|          0|         0|           3|     11|             0|\n",
      "|5324|         1981|          PhD|    Married|58293.0|         1|             0|19-01-2014|          94|     173|       43|     118|      46|      27|     15|                 5|            5|                3|            6|             5|          0|          0|          0|          0|          0|         0|           3|     11|             0|\n",
      "|7446|         1967|     Mestrado|   Together|62513.0|         0|             1|09-09-2013|          16|     520|       42|      98|       0|      42|     14|                 2|            6|                4|           10|             6|          0|          0|          0|          0|          0|         0|           3|     11|             0|\n",
      "| 965|         1971|     Graduado|   Divorced|55635.0|         0|             1|13-11-2012|          34|     235|       65|     164|      50|      49|     27|                 4|            7|                3|            7|             6|          0|          0|          0|          0|          0|         0|           3|     11|             0|\n",
      "|6177|         1985|          PhD|    Married|33454.0|         1|             0|08-05-2013|          32|      76|       10|      56|       3|       1|     23|                 2|            4|                0|            4|             8|          0|          0|          0|          0|          0|         0|           3|     11|             0|\n",
      "|4855|         1974|          PhD|   Together|30351.0|         1|             0|06-06-2013|          19|      14|        0|      24|       3|       3|      2|                 1|            3|                0|            2|             9|          0|          0|          0|          0|          0|         0|           3|     11|             1|\n",
      "|5899|         1950|          PhD|   Together| 5648.0|         1|             1|13-03-2014|          68|      28|        0|       6|       1|       1|     13|                 1|            1|                0|            0|            20|          1|          0|          0|          0|          0|         0|           3|     11|             0|\n",
      "|1994|         1983|     Graduado|    Married|   null|         1|             0|15-11-2013|          11|       5|        5|       6|       0|       2|      1|                 1|            1|                0|            2|             7|          0|          0|          0|          0|          0|         0|           3|     11|             0|\n",
      "| 387|         1976|       Básico|    Married| 7500.0|         0|             0|13-11-2012|          59|       6|       16|      11|      11|       1|     16|                 1|            2|                0|            3|             8|          0|          0|          0|          0|          0|         0|           3|     11|             0|\n",
      "|2125|         1959|     Graduado|   Divorced|63033.0|         0|             0|15-11-2013|          82|     194|       61|     480|     225|     112|     30|                 1|            3|                4|            8|             2|          0|          0|          0|          0|          0|         0|           3|     11|             0|\n",
      "|8180|         1952|     Mestrado|   Divorced|59354.0|         1|             1|15-11-2013|          53|     233|        2|      53|       3|       5|     14|                 3|            6|                1|            5|             6|          0|          0|          0|          0|          0|         0|           3|     11|             0|\n",
      "|2569|         1987|     Graduado|    Married|17323.0|         0|             0|10-10-2012|          38|       3|       14|      17|       6|       1|      5|                 1|            1|                0|            3|             8|          0|          0|          0|          0|          0|         0|           3|     11|             0|\n",
      "|2114|         1946|          PhD|     Single|82800.0|         0|             0|24-11-2012|          23|    1006|       22|     115|      59|      68|     45|                 1|            7|                6|           12|             3|          0|          0|          1|          1|          0|         0|           3|     11|             1|\n",
      "|9736|         1980|     Graduado|    Married|41850.0|         1|             1|24-12-2012|          51|      53|        5|      19|       2|      13|      4|                 3|            3|                0|            3|             8|          0|          0|          0|          0|          0|         0|           3|     11|             0|\n",
      "|4939|         1946|     Graduado|   Together|37760.0|         0|             0|31-08-2012|          20|      84|        5|      38|     150|      12|     28|                 2|            4|                1|            6|             7|          0|          0|          0|          0|          0|         0|           3|     11|             0|\n",
      "|6565|         1949|     Mestrado|    Married|76995.0|         0|             1|28-03-2013|          91|    1012|       80|     498|       0|      16|    176|                 2|           11|                4|            9|             5|          0|          0|          0|          1|          0|         0|           3|     11|             0|\n",
      "|2278|         1985|Segundo Ciclo|     Single|33812.0|         1|             0|03-11-2012|          86|       4|       17|      19|      30|      24|     39|                 2|            2|                1|            3|             6|          0|          0|          0|          0|          0|         0|           3|     11|             0|\n",
      "+----+-------------+-------------+-----------+-------+----------+--------------+----------+------------+--------+---------+--------+--------+--------+-------+------------------+-------------+-----------------+-------------+--------------+-----------+-----------+-----------+-----------+-----------+----------+------------+-------+--------------+\n",
      "only showing top 20 rows\n",
      "\n"
     ]
    }
   ],
   "source": [
    "a=[x[0] for x in df2.select('GrauInstrucao').distinct().collect()]\n",
    "df2=df2.replace(a, ['Segundo Ciclo', 'PhD', 'Mestrado', 'Graduado', 'Básico'])\n",
    "df2.select('GrauInstrucao').distinct().show()\n",
    "df2.show()"
   ]
  },
  {
   "cell_type": "markdown",
   "id": "c081a590-c3b7-4985-9121-937e8d52d245",
   "metadata": {},
   "source": [
    "#### Tradução dos dados relativos ao Estado Civil"
   ]
  },
  {
   "cell_type": "code",
   "execution_count": 9,
   "id": "df0514ef-2585-45ee-b84f-fb9525853ee1",
   "metadata": {},
   "outputs": [
    {
     "name": "stdout",
     "output_type": "stream",
     "text": [
      "+------------------+\n",
      "|       EstadoCivil|\n",
      "+------------------+\n",
      "|             Viúvo|\n",
      "|        Divorciado|\n",
      "|           Sozinho|\n",
      "|          Solteiro|\n",
      "|           Absurdo|\n",
      "|Só se vive uma vez|\n",
      "|            Casado|\n",
      "|           Juntado|\n",
      "+------------------+\n",
      "\n",
      "+----+-------------+-------------+-----------+-------+----------+--------------+----------+------------+--------+---------+--------+--------+--------+-------+------------------+-------------+-----------------+-------------+--------------+-----------+-----------+-----------+-----------+-----------+----------+------------+-------+--------------+\n",
      "|  ID|AnoNascimento|GrauInstrucao|EstadoCivil|  Renda|NumCrianca|NumAdolescente| DataConta|UltimaCompra|QtdVinho|QtdFrutas|QtdCarne|QtdPeixe|QtdDoces|QtdOuro|QtdComprasDesconto|QtdComprasWeb|QtdCompraCatalogo|QtdCompraLoja|NumVisitasSite|AceitouCam3|AceitouCam4|AceitouCam5|AceitouCam1|AceitouCam2|Reclamacao|CustoContato|Receita|UltimaCampanha|\n",
      "+----+-------------+-------------+-----------+-------+----------+--------------+----------+------------+--------+---------+--------+--------+--------+-------+------------------+-------------+-----------------+-------------+--------------+-----------+-----------+-----------+-----------+-----------+----------+------------+-------+--------------+\n",
      "|5524|         1957|     Graduado|   Solteiro|58138.0|         0|             0|04-09-2012|          58|     635|       88|     546|     172|      88|     88|                 3|            8|               10|            4|             7|          0|          0|          0|          0|          0|         0|           3|     11|             1|\n",
      "|2174|         1954|     Graduado|   Solteiro|46344.0|         1|             1|08-03-2014|          38|      11|        1|       6|       2|       1|      6|                 2|            1|                1|            2|             5|          0|          0|          0|          0|          0|         0|           3|     11|             0|\n",
      "|4141|         1965|     Graduado|    Juntado|71613.0|         0|             0|21-08-2013|          26|     426|       49|     127|     111|      21|     42|                 1|            8|                2|           10|             4|          0|          0|          0|          0|          0|         0|           3|     11|             0|\n",
      "|6182|         1984|     Graduado|    Juntado|26646.0|         1|             0|10-02-2014|          26|      11|        4|      20|      10|       3|      5|                 2|            2|                0|            4|             6|          0|          0|          0|          0|          0|         0|           3|     11|             0|\n",
      "|5324|         1981|          PhD|     Casado|58293.0|         1|             0|19-01-2014|          94|     173|       43|     118|      46|      27|     15|                 5|            5|                3|            6|             5|          0|          0|          0|          0|          0|         0|           3|     11|             0|\n",
      "|7446|         1967|     Mestrado|    Juntado|62513.0|         0|             1|09-09-2013|          16|     520|       42|      98|       0|      42|     14|                 2|            6|                4|           10|             6|          0|          0|          0|          0|          0|         0|           3|     11|             0|\n",
      "| 965|         1971|     Graduado| Divorciado|55635.0|         0|             1|13-11-2012|          34|     235|       65|     164|      50|      49|     27|                 4|            7|                3|            7|             6|          0|          0|          0|          0|          0|         0|           3|     11|             0|\n",
      "|6177|         1985|          PhD|     Casado|33454.0|         1|             0|08-05-2013|          32|      76|       10|      56|       3|       1|     23|                 2|            4|                0|            4|             8|          0|          0|          0|          0|          0|         0|           3|     11|             0|\n",
      "|4855|         1974|          PhD|    Juntado|30351.0|         1|             0|06-06-2013|          19|      14|        0|      24|       3|       3|      2|                 1|            3|                0|            2|             9|          0|          0|          0|          0|          0|         0|           3|     11|             1|\n",
      "|5899|         1950|          PhD|    Juntado| 5648.0|         1|             1|13-03-2014|          68|      28|        0|       6|       1|       1|     13|                 1|            1|                0|            0|            20|          1|          0|          0|          0|          0|         0|           3|     11|             0|\n",
      "|1994|         1983|     Graduado|     Casado|   null|         1|             0|15-11-2013|          11|       5|        5|       6|       0|       2|      1|                 1|            1|                0|            2|             7|          0|          0|          0|          0|          0|         0|           3|     11|             0|\n",
      "| 387|         1976|       Básico|     Casado| 7500.0|         0|             0|13-11-2012|          59|       6|       16|      11|      11|       1|     16|                 1|            2|                0|            3|             8|          0|          0|          0|          0|          0|         0|           3|     11|             0|\n",
      "|2125|         1959|     Graduado| Divorciado|63033.0|         0|             0|15-11-2013|          82|     194|       61|     480|     225|     112|     30|                 1|            3|                4|            8|             2|          0|          0|          0|          0|          0|         0|           3|     11|             0|\n",
      "|8180|         1952|     Mestrado| Divorciado|59354.0|         1|             1|15-11-2013|          53|     233|        2|      53|       3|       5|     14|                 3|            6|                1|            5|             6|          0|          0|          0|          0|          0|         0|           3|     11|             0|\n",
      "|2569|         1987|     Graduado|     Casado|17323.0|         0|             0|10-10-2012|          38|       3|       14|      17|       6|       1|      5|                 1|            1|                0|            3|             8|          0|          0|          0|          0|          0|         0|           3|     11|             0|\n",
      "|2114|         1946|          PhD|   Solteiro|82800.0|         0|             0|24-11-2012|          23|    1006|       22|     115|      59|      68|     45|                 1|            7|                6|           12|             3|          0|          0|          1|          1|          0|         0|           3|     11|             1|\n",
      "|9736|         1980|     Graduado|     Casado|41850.0|         1|             1|24-12-2012|          51|      53|        5|      19|       2|      13|      4|                 3|            3|                0|            3|             8|          0|          0|          0|          0|          0|         0|           3|     11|             0|\n",
      "|4939|         1946|     Graduado|    Juntado|37760.0|         0|             0|31-08-2012|          20|      84|        5|      38|     150|      12|     28|                 2|            4|                1|            6|             7|          0|          0|          0|          0|          0|         0|           3|     11|             0|\n",
      "|6565|         1949|     Mestrado|     Casado|76995.0|         0|             1|28-03-2013|          91|    1012|       80|     498|       0|      16|    176|                 2|           11|                4|            9|             5|          0|          0|          0|          1|          0|         0|           3|     11|             0|\n",
      "|2278|         1985|Segundo Ciclo|   Solteiro|33812.0|         1|             0|03-11-2012|          86|       4|       17|      19|      30|      24|     39|                 2|            2|                1|            3|             6|          0|          0|          0|          0|          0|         0|           3|     11|             0|\n",
      "+----+-------------+-------------+-----------+-------+----------+--------------+----------+------------+--------+---------+--------+--------+--------+-------+------------------+-------------+-----------------+-------------+--------------+-----------+-----------+-----------+-----------+-----------+----------+------------+-------+--------------+\n",
      "only showing top 20 rows\n",
      "\n"
     ]
    }
   ],
   "source": [
    "b=[x[0] for x in df2.select('EstadoCivil').distinct().collect()]\n",
    "df2=df2.replace(b,['Só se vive uma vez', 'Juntado', 'Casado', 'Absurdo', 'Viúvo','Divorciado', 'Sozinho', 'Solteiro'])\n",
    "df2.select('EstadoCivil').distinct().show()\n",
    "df2.show()"
   ]
  },
  {
   "cell_type": "markdown",
   "id": "ad8f46f6-d8a0-4a3b-bed0-d0649ee00cac",
   "metadata": {},
   "source": [
    "#### Verificação das Informções sobre as colunas"
   ]
  },
  {
   "cell_type": "code",
   "execution_count": 10,
   "id": "e508faaf-c086-4983-9c48-58e354268864",
   "metadata": {},
   "outputs": [
    {
     "name": "stdout",
     "output_type": "stream",
     "text": [
      "root\n",
      " |-- ID: integer (nullable = true)\n",
      " |-- AnoNascimento: integer (nullable = true)\n",
      " |-- GrauInstrucao: string (nullable = true)\n",
      " |-- EstadoCivil: string (nullable = true)\n",
      " |-- Renda: double (nullable = true)\n",
      " |-- NumCrianca: integer (nullable = true)\n",
      " |-- NumAdolescente: integer (nullable = true)\n",
      " |-- DataConta: string (nullable = true)\n",
      " |-- UltimaCompra: integer (nullable = true)\n",
      " |-- QtdVinho: integer (nullable = true)\n",
      " |-- QtdFrutas: integer (nullable = true)\n",
      " |-- QtdCarne: integer (nullable = true)\n",
      " |-- QtdPeixe: integer (nullable = true)\n",
      " |-- QtdDoces: integer (nullable = true)\n",
      " |-- QtdOuro: integer (nullable = true)\n",
      " |-- QtdComprasDesconto: integer (nullable = true)\n",
      " |-- QtdComprasWeb: integer (nullable = true)\n",
      " |-- QtdCompraCatalogo: integer (nullable = true)\n",
      " |-- QtdCompraLoja: integer (nullable = true)\n",
      " |-- NumVisitasSite: integer (nullable = true)\n",
      " |-- AceitouCam3: integer (nullable = true)\n",
      " |-- AceitouCam4: integer (nullable = true)\n",
      " |-- AceitouCam5: integer (nullable = true)\n",
      " |-- AceitouCam1: integer (nullable = true)\n",
      " |-- AceitouCam2: integer (nullable = true)\n",
      " |-- Reclamacao: integer (nullable = true)\n",
      " |-- CustoContato: integer (nullable = true)\n",
      " |-- Receita: integer (nullable = true)\n",
      " |-- UltimaCampanha: integer (nullable = true)\n",
      "\n"
     ]
    }
   ],
   "source": [
    "df2.printSchema()"
   ]
  },
  {
   "cell_type": "markdown",
   "id": "9ed0ec68-1989-4651-8b29-37e8a1d4f24d",
   "metadata": {},
   "source": [
    "#### Procura de valores nulos, usadas tanto as funções Isnan quanto IsNULL"
   ]
  },
  {
   "cell_type": "code",
   "execution_count": 11,
   "id": "eedcdbe2-a183-4351-b169-4017d5db1c69",
   "metadata": {},
   "outputs": [
    {
     "name": "stdout",
     "output_type": "stream",
     "text": [
      "-RECORD 0-----------------\n",
      " ID                 | 0   \n",
      " AnoNascimento      | 0   \n",
      " GrauInstrucao      | 0   \n",
      " EstadoCivil        | 0   \n",
      " Renda              | 0   \n",
      " NumCrianca         | 0   \n",
      " NumAdolescente     | 0   \n",
      " DataConta          | 0   \n",
      " UltimaCompra       | 0   \n",
      " QtdVinho           | 0   \n",
      " QtdFrutas          | 0   \n",
      " QtdCarne           | 0   \n",
      " QtdPeixe           | 0   \n",
      " QtdDoces           | 0   \n",
      " QtdOuro            | 0   \n",
      " QtdComprasDesconto | 0   \n",
      " QtdComprasWeb      | 0   \n",
      " QtdCompraCatalogo  | 0   \n",
      " QtdCompraLoja      | 0   \n",
      " NumVisitasSite     | 0   \n",
      " AceitouCam3        | 0   \n",
      " AceitouCam4        | 0   \n",
      " AceitouCam5        | 0   \n",
      " AceitouCam1        | 0   \n",
      " AceitouCam2        | 0   \n",
      " Reclamacao         | 0   \n",
      " CustoContato       | 0   \n",
      " Receita            | 0   \n",
      " UltimaCampanha     | 0   \n",
      "\n"
     ]
    }
   ],
   "source": [
    "df2.select([count(when(isnan(c), c)).alias(c) for c in df2.columns]).show(vertical=True)"
   ]
  },
  {
   "cell_type": "code",
   "execution_count": 12,
   "id": "6b4c8d9f-c9d8-4502-af94-93c94cb4c2c9",
   "metadata": {},
   "outputs": [
    {
     "name": "stdout",
     "output_type": "stream",
     "text": [
      "-RECORD 0-----------------\n",
      " ID                 | 0   \n",
      " AnoNascimento      | 0   \n",
      " GrauInstrucao      | 0   \n",
      " EstadoCivil        | 0   \n",
      " Renda              | 24  \n",
      " NumCrianca         | 0   \n",
      " NumAdolescente     | 0   \n",
      " DataConta          | 0   \n",
      " UltimaCompra       | 0   \n",
      " QtdVinho           | 0   \n",
      " QtdFrutas          | 0   \n",
      " QtdCarne           | 0   \n",
      " QtdPeixe           | 0   \n",
      " QtdDoces           | 0   \n",
      " QtdOuro            | 0   \n",
      " QtdComprasDesconto | 0   \n",
      " QtdComprasWeb      | 0   \n",
      " QtdCompraCatalogo  | 0   \n",
      " QtdCompraLoja      | 0   \n",
      " NumVisitasSite     | 0   \n",
      " AceitouCam3        | 0   \n",
      " AceitouCam4        | 0   \n",
      " AceitouCam5        | 0   \n",
      " AceitouCam1        | 0   \n",
      " AceitouCam2        | 0   \n",
      " Reclamacao         | 0   \n",
      " CustoContato       | 0   \n",
      " Receita            | 0   \n",
      " UltimaCampanha     | 0   \n",
      "\n"
     ]
    }
   ],
   "source": [
    "df2.select([count(when(col(c).isNull(), c)).alias(c) for c in df2.columns]).show(vertical=True)"
   ]
  },
  {
   "cell_type": "markdown",
   "id": "332b90ea-cd12-4cdb-b81e-0257fb8f1194",
   "metadata": {},
   "source": [
    "#### Encontrados 24 valores nulos na Renda dos clientes, linhas foram excluídas, ficando assim 2216 linhas"
   ]
  },
  {
   "cell_type": "code",
   "execution_count": 13,
   "id": "4ea56329-e98a-42c6-b8e7-82d3a1a440d6",
   "metadata": {},
   "outputs": [],
   "source": [
    "df2=df2.dropna()"
   ]
  },
  {
   "cell_type": "code",
   "execution_count": 14,
   "id": "26930665-902c-4a67-bd73-6f5200646f5a",
   "metadata": {},
   "outputs": [
    {
     "name": "stdout",
     "output_type": "stream",
     "text": [
      "+-------+----------------+------------------+-------------+-----------+------------------+------------------+------------------+----------+-----------------+------------------+------------------+------------------+-----------------+------------------+-----------------+------------------+------------------+------------------+-----------------+-----------------+-------------------+------------------+-------------------+-------------------+--------------------+-------------------+------------+-------+-------------------+\n",
      "|summary|              ID|     AnoNascimento|GrauInstrucao|EstadoCivil|             Renda|        NumCrianca|    NumAdolescente| DataConta|     UltimaCompra|          QtdVinho|         QtdFrutas|          QtdCarne|         QtdPeixe|          QtdDoces|          QtdOuro|QtdComprasDesconto|     QtdComprasWeb| QtdCompraCatalogo|    QtdCompraLoja|   NumVisitasSite|        AceitouCam3|       AceitouCam4|        AceitouCam5|        AceitouCam1|         AceitouCam2|         Reclamacao|CustoContato|Receita|     UltimaCampanha|\n",
      "+-------+----------------+------------------+-------------+-----------+------------------+------------------+------------------+----------+-----------------+------------------+------------------+------------------+-----------------+------------------+-----------------+------------------+------------------+------------------+-----------------+-----------------+-------------------+------------------+-------------------+-------------------+--------------------+-------------------+------------+-------+-------------------+\n",
      "|  count|            2216|              2216|         2216|       2216|              2216|              2216|              2216|      2216|             2216|              2216|              2216|              2216|             2216|              2216|             2216|              2216|              2216|              2216|             2216|             2216|               2216|              2216|               2216|               2216|                2216|               2216|        2216|   2216|               2216|\n",
      "|   mean|5588.35333935018|1968.8203971119133|         null|       null| 52247.25135379061|0.4417870036101083|0.5054151624548736|      null|49.01263537906137|305.09160649819495|26.356046931407942|166.99593862815885|37.63763537906137|27.028880866425993|43.96525270758123|2.3235559566787005|  4.08528880866426| 2.671028880866426|5.800992779783393|5.319043321299639|0.07355595667870037|0.0740072202166065|0.07310469314079422|0.06407942238267147|0.013537906137184115|0.00947653429602888|         3.0|   11.0|0.15027075812274368|\n",
      "| stddev|3249.37627481347|11.985554097352363|         null|       null|25173.076660901414|0.5368962401346721|0.5441812115403034|      null|28.94835165862499|  337.327920116672|39.793916518238674|224.28327275898198|54.75208241485154| 41.07204566698224|51.81541437447363|1.9237156460114953|2.7409510810147255|2.9267336360080134|3.250784785670525|2.425358540606443|0.26110580876067324|0.2618417283260366|0.26036702668143424| 0.2449496396591494| 0.11558832299800825| 0.0969070038487211|         0.0|    0.0|0.35741727012906527|\n",
      "|    min|               0|              1893|       Básico|    Absurdo|            1730.0|                 0|                 0|01-01-2013|                0|                 0|                 0|                 0|                0|                 0|                0|                 0|                 0|                 0|                0|                0|                  0|                 0|                  0|                  0|                   0|                  0|           3|     11|                  0|\n",
      "|    max|           11191|              1996|Segundo Ciclo|      Viúvo|          666666.0|                 2|                 2|31-12-2013|               99|              1493|               199|              1725|              259|               262|              321|                15|                27|                28|               13|               20|                  1|                 1|                  1|                  1|                   1|                  1|           3|     11|                  1|\n",
      "+-------+----------------+------------------+-------------+-----------+------------------+------------------+------------------+----------+-----------------+------------------+------------------+------------------+-----------------+------------------+-----------------+------------------+------------------+------------------+-----------------+-----------------+-------------------+------------------+-------------------+-------------------+--------------------+-------------------+------------+-------+-------------------+\n",
      "\n"
     ]
    }
   ],
   "source": [
    "df2.describe().show()"
   ]
  },
  {
   "cell_type": "markdown",
   "id": "57a9ec34-5b06-4f61-a251-ab6c173ebff5",
   "metadata": {},
   "source": [
    "#### As colunas Receita e CustoContato foram descartadas por apenas repetirem os valores 3 e 11 respectivamente e não trazerem informações úteis para a analise"
   ]
  },
  {
   "cell_type": "code",
   "execution_count": 15,
   "id": "84170cec-c511-473a-ab4e-a33aaad2424e",
   "metadata": {},
   "outputs": [],
   "source": [
    "df2=df2.drop('Receita', 'CustoContato')"
   ]
  },
  {
   "cell_type": "code",
   "execution_count": 16,
   "id": "5c1638cf-f9a1-48d4-96a2-de3f5906e8b7",
   "metadata": {},
   "outputs": [
    {
     "name": "stdout",
     "output_type": "stream",
     "text": [
      "+-------+----------------+------------------+-------------+-----------+------------------+------------------+------------------+----------+-----------------+------------------+------------------+------------------+-----------------+------------------+-----------------+------------------+------------------+------------------+-----------------+-----------------+-------------------+------------------+-------------------+-------------------+--------------------+-------------------+-------------------+\n",
      "|summary|              ID|     AnoNascimento|GrauInstrucao|EstadoCivil|             Renda|        NumCrianca|    NumAdolescente| DataConta|     UltimaCompra|          QtdVinho|         QtdFrutas|          QtdCarne|         QtdPeixe|          QtdDoces|          QtdOuro|QtdComprasDesconto|     QtdComprasWeb| QtdCompraCatalogo|    QtdCompraLoja|   NumVisitasSite|        AceitouCam3|       AceitouCam4|        AceitouCam5|        AceitouCam1|         AceitouCam2|         Reclamacao|     UltimaCampanha|\n",
      "+-------+----------------+------------------+-------------+-----------+------------------+------------------+------------------+----------+-----------------+------------------+------------------+------------------+-----------------+------------------+-----------------+------------------+------------------+------------------+-----------------+-----------------+-------------------+------------------+-------------------+-------------------+--------------------+-------------------+-------------------+\n",
      "|  count|            2216|              2216|         2216|       2216|              2216|              2216|              2216|      2216|             2216|              2216|              2216|              2216|             2216|              2216|             2216|              2216|              2216|              2216|             2216|             2216|               2216|              2216|               2216|               2216|                2216|               2216|               2216|\n",
      "|   mean|5588.35333935018|1968.8203971119133|         null|       null| 52247.25135379061|0.4417870036101083|0.5054151624548736|      null|49.01263537906137|305.09160649819495|26.356046931407942|166.99593862815885|37.63763537906137|27.028880866425993|43.96525270758123|2.3235559566787005|  4.08528880866426| 2.671028880866426|5.800992779783393|5.319043321299639|0.07355595667870037|0.0740072202166065|0.07310469314079422|0.06407942238267147|0.013537906137184115|0.00947653429602888|0.15027075812274368|\n",
      "| stddev|3249.37627481347|11.985554097352363|         null|       null|25173.076660901414|0.5368962401346721|0.5441812115403034|      null|28.94835165862499|  337.327920116672|39.793916518238674|224.28327275898198|54.75208241485154| 41.07204566698224|51.81541437447363|1.9237156460114953|2.7409510810147255|2.9267336360080134|3.250784785670525|2.425358540606443|0.26110580876067324|0.2618417283260366|0.26036702668143424| 0.2449496396591494| 0.11558832299800825| 0.0969070038487211|0.35741727012906527|\n",
      "|    min|               0|              1893|       Básico|    Absurdo|            1730.0|                 0|                 0|01-01-2013|                0|                 0|                 0|                 0|                0|                 0|                0|                 0|                 0|                 0|                0|                0|                  0|                 0|                  0|                  0|                   0|                  0|                  0|\n",
      "|    25%|            2814|              1959|         null|       null|           35246.0|                 0|                 0|      null|               24|                24|                 2|                16|                3|                 1|                9|                 1|                 2|                 0|                3|                3|                  0|                 0|                  0|                  0|                   0|                  0|                  0|\n",
      "|    50%|            5455|              1970|         null|       null|           51373.0|                 0|                 0|      null|               49|               174|                 8|                68|               12|                 8|               24|                 2|                 4|                 2|                5|                6|                  0|                 0|                  0|                  0|                   0|                  0|                  0|\n",
      "|    75%|            8420|              1977|         null|       null|           68487.0|                 1|                 1|      null|               74|               505|                33|               232|               50|                33|               56|                 3|                 6|                 4|                8|                7|                  0|                 0|                  0|                  0|                   0|                  0|                  0|\n",
      "|    max|           11191|              1996|Segundo Ciclo|      Viúvo|          666666.0|                 2|                 2|31-12-2013|               99|              1493|               199|              1725|              259|               262|              321|                15|                27|                28|               13|               20|                  1|                 1|                  1|                  1|                   1|                  1|                  1|\n",
      "+-------+----------------+------------------+-------------+-----------+------------------+------------------+------------------+----------+-----------------+------------------+------------------+------------------+-----------------+------------------+-----------------+------------------+------------------+------------------+-----------------+-----------------+-------------------+------------------+-------------------+-------------------+--------------------+-------------------+-------------------+\n",
      "\n"
     ]
    }
   ],
   "source": [
    "df2.summary().show()"
   ]
  },
  {
   "cell_type": "code",
   "execution_count": 17,
   "id": "2bf1cbbd-c385-49a6-bf88-ffe9a63c1966",
   "metadata": {},
   "outputs": [
    {
     "name": "stdout",
     "output_type": "stream",
     "text": [
      "2216 27\n"
     ]
    }
   ],
   "source": [
    "print(df2.count(), len(df2.columns))"
   ]
  },
  {
   "cell_type": "code",
   "execution_count": 18,
   "id": "39559d59-e6cf-4be0-9739-05e9008ce2f4",
   "metadata": {},
   "outputs": [
    {
     "name": "stdout",
     "output_type": "stream",
     "text": [
      "+----+-------------+-------------+-----------+-------+-----------+---------------+----------+------------+--------+---------+--------+--------+--------+-------+------------------+-------------+-----------------+-------------+--------------+-----------+-----------+-----------+-----------+-----------+----------+--------------+\n",
      "|  ID|AnoNascimento|GrauInstrucao|EstadoCivil|  Renda|QtdCriancas|QtdAdolescentes| DataConta|UltimaCompra|QtdVinho|QtdFrutas|QtdCarne|QtdPeixe|QtdDoces|QtdOuro|QtdComprasDesconto|QtdComprasWeb|QtdCompraCatalogo|QtdCompraLoja|NumVisitasSite|AceitouCam3|AceitouCam4|AceitouCam5|AceitouCam1|AceitouCam2|Reclamacao|UltimaCampanha|\n",
      "+----+-------------+-------------+-----------+-------+-----------+---------------+----------+------------+--------+---------+--------+--------+--------+-------+------------------+-------------+-----------------+-------------+--------------+-----------+-----------+-----------+-----------+-----------+----------+--------------+\n",
      "|5524|         1957|     Graduado|   Solteiro|58138.0|          0|              0|04-09-2012|          58|     635|       88|     546|     172|      88|     88|                 3|            8|               10|            4|             7|          0|          0|          0|          0|          0|         0|             1|\n",
      "|2174|         1954|     Graduado|   Solteiro|46344.0|          1|              1|08-03-2014|          38|      11|        1|       6|       2|       1|      6|                 2|            1|                1|            2|             5|          0|          0|          0|          0|          0|         0|             0|\n",
      "|4141|         1965|     Graduado|    Juntado|71613.0|          0|              0|21-08-2013|          26|     426|       49|     127|     111|      21|     42|                 1|            8|                2|           10|             4|          0|          0|          0|          0|          0|         0|             0|\n",
      "|6182|         1984|     Graduado|    Juntado|26646.0|          1|              0|10-02-2014|          26|      11|        4|      20|      10|       3|      5|                 2|            2|                0|            4|             6|          0|          0|          0|          0|          0|         0|             0|\n",
      "|5324|         1981|          PhD|     Casado|58293.0|          1|              0|19-01-2014|          94|     173|       43|     118|      46|      27|     15|                 5|            5|                3|            6|             5|          0|          0|          0|          0|          0|         0|             0|\n",
      "|7446|         1967|     Mestrado|    Juntado|62513.0|          0|              1|09-09-2013|          16|     520|       42|      98|       0|      42|     14|                 2|            6|                4|           10|             6|          0|          0|          0|          0|          0|         0|             0|\n",
      "| 965|         1971|     Graduado| Divorciado|55635.0|          0|              1|13-11-2012|          34|     235|       65|     164|      50|      49|     27|                 4|            7|                3|            7|             6|          0|          0|          0|          0|          0|         0|             0|\n",
      "|6177|         1985|          PhD|     Casado|33454.0|          1|              0|08-05-2013|          32|      76|       10|      56|       3|       1|     23|                 2|            4|                0|            4|             8|          0|          0|          0|          0|          0|         0|             0|\n",
      "|4855|         1974|          PhD|    Juntado|30351.0|          1|              0|06-06-2013|          19|      14|        0|      24|       3|       3|      2|                 1|            3|                0|            2|             9|          0|          0|          0|          0|          0|         0|             1|\n",
      "|5899|         1950|          PhD|    Juntado| 5648.0|          1|              1|13-03-2014|          68|      28|        0|       6|       1|       1|     13|                 1|            1|                0|            0|            20|          1|          0|          0|          0|          0|         0|             0|\n",
      "| 387|         1976|       Básico|     Casado| 7500.0|          0|              0|13-11-2012|          59|       6|       16|      11|      11|       1|     16|                 1|            2|                0|            3|             8|          0|          0|          0|          0|          0|         0|             0|\n",
      "|2125|         1959|     Graduado| Divorciado|63033.0|          0|              0|15-11-2013|          82|     194|       61|     480|     225|     112|     30|                 1|            3|                4|            8|             2|          0|          0|          0|          0|          0|         0|             0|\n",
      "|8180|         1952|     Mestrado| Divorciado|59354.0|          1|              1|15-11-2013|          53|     233|        2|      53|       3|       5|     14|                 3|            6|                1|            5|             6|          0|          0|          0|          0|          0|         0|             0|\n",
      "|2569|         1987|     Graduado|     Casado|17323.0|          0|              0|10-10-2012|          38|       3|       14|      17|       6|       1|      5|                 1|            1|                0|            3|             8|          0|          0|          0|          0|          0|         0|             0|\n",
      "|2114|         1946|          PhD|   Solteiro|82800.0|          0|              0|24-11-2012|          23|    1006|       22|     115|      59|      68|     45|                 1|            7|                6|           12|             3|          0|          0|          1|          1|          0|         0|             1|\n",
      "|9736|         1980|     Graduado|     Casado|41850.0|          1|              1|24-12-2012|          51|      53|        5|      19|       2|      13|      4|                 3|            3|                0|            3|             8|          0|          0|          0|          0|          0|         0|             0|\n",
      "|4939|         1946|     Graduado|    Juntado|37760.0|          0|              0|31-08-2012|          20|      84|        5|      38|     150|      12|     28|                 2|            4|                1|            6|             7|          0|          0|          0|          0|          0|         0|             0|\n",
      "|6565|         1949|     Mestrado|     Casado|76995.0|          0|              1|28-03-2013|          91|    1012|       80|     498|       0|      16|    176|                 2|           11|                4|            9|             5|          0|          0|          0|          1|          0|         0|             0|\n",
      "|2278|         1985|Segundo Ciclo|   Solteiro|33812.0|          1|              0|03-11-2012|          86|       4|       17|      19|      30|      24|     39|                 2|            2|                1|            3|             6|          0|          0|          0|          0|          0|         0|             0|\n",
      "|9360|         1982|     Graduado|     Casado|37040.0|          0|              0|08-08-2012|          41|      86|        2|      73|      69|      38|     48|                 1|            4|                2|            5|             8|          0|          0|          0|          0|          0|         0|             0|\n",
      "+----+-------------+-------------+-----------+-------+-----------+---------------+----------+------------+--------+---------+--------+--------+--------+-------+------------------+-------------+-----------------+-------------+--------------+-----------+-----------+-----------+-----------+-----------+----------+--------------+\n",
      "only showing top 20 rows\n",
      "\n"
     ]
    }
   ],
   "source": [
    "df2=df2.withColumnRenamed('NumCrianca','QtdCriancas').withColumnRenamed('NumAdolescente', 'QtdAdolescentes')\n",
    "df2.show()"
   ]
  },
  {
   "cell_type": "code",
   "execution_count": 19,
   "id": "b755bce2-09bb-4e77-b24a-c94395b2feaf",
   "metadata": {},
   "outputs": [],
   "source": [
    "df2=df2.withColumn('TotalGasto', F.col('QtdVinho')+F.col('QtdFrutas')+F.col('QtdCarne')+F.col('QtdPeixe')+F.col('QtdOuro')).orderBy('TotalGasto', ascending=False)"
   ]
  },
  {
   "cell_type": "code",
   "execution_count": 20,
   "id": "d59c1774-142a-483d-af6a-b62cdd23fff1",
   "metadata": {},
   "outputs": [
    {
     "name": "stdout",
     "output_type": "stream",
     "text": [
      "+-----+-------------+-------------+-----------+-------+-----------+---------------+----------+------------+--------+---------+--------+--------+--------+-------+------------------+-------------+-----------------+-------------+--------------+-----------+-----------+-----------+-----------+-----------+----------+--------------+----------+------+\n",
      "|   ID|AnoNascimento|GrauInstrucao|EstadoCivil|  Renda|QtdCriancas|QtdAdolescentes| DataConta|UltimaCompra|QtdVinho|QtdFrutas|QtdCarne|QtdPeixe|QtdDoces|QtdOuro|QtdComprasDesconto|QtdComprasWeb|QtdCompraCatalogo|QtdCompraLoja|NumVisitasSite|AceitouCam3|AceitouCam4|AceitouCam5|AceitouCam1|AceitouCam2|Reclamacao|UltimaCampanha|TotalGasto|Filhos|\n",
      "+-----+-------------+-------------+-----------+-------+-----------+---------------+----------+------------+--------+---------+--------+--------+--------+-------+------------------+-------------+-----------------+-------------+--------------+-----------+-----------+-----------+-----------+-----------+----------+--------------+----------+------+\n",
      "| 9283|         1978|     Graduado|   Solteiro|60199.0|          1|              2|12-09-2013|          49|       8|        1|       7|       2|       0|      0|                 1|            0|                0|            3|             4|          0|          0|          0|          0|          0|         0|             0|        18|     3|\n",
      "| 9499|         1954|     Graduado|     Casado|93404.0|          1|              2|07-05-2013|          97|    1279|       15|     287|      20|       0|     15|                 3|            3|                4|            7|             5|          0|          1|          1|          0|          0|         0|             0|      1616|     3|\n",
      "| 2795|         1958|     Mestrado|   Solteiro|30523.0|          2|              1|01-07-2013|           0|       5|        0|       3|       0|       0|      5|                 1|            1|                0|            2|             7|          0|          0|          0|          0|          0|         0|             0|        13|     3|\n",
      "| 1357|         1970|     Graduado|    Juntado|74854.0|          1|              2|08-04-2013|          90|     856|       59|     487|      58|      29|     73|                 7|            2|                5|            5|             5|          0|          0|          0|          0|          0|         0|             0|      1533|     3|\n",
      "| 4370|         1966|     Graduado|    Juntado|43482.0|          2|              1|13-11-2013|          83|      18|        1|      32|       6|       3|     28|                 3|            2|                0|            4|             6|          0|          0|          0|          0|          0|         0|             0|        85|     3|\n",
      "| 7284|         1953|     Graduado|     Casado|48686.0|          1|              2|04-12-2013|           8|      10|        0|       7|       2|       0|      1|                 1|            1|                0|            2|             8|          0|          0|          0|          0|          0|         0|             0|        20|     3|\n",
      "| 4148|         1972|     Graduado|     Casado|38988.0|          1|              2|20-08-2012|          90|     164|       24|     103|      12|       3|     42|                 7|            5|                1|            6|             8|          0|          0|          0|          0|          0|         0|             0|       345|     3|\n",
      "| 5885|         1973|Segundo Ciclo|     Casado|35688.0|          2|              1|22-08-2012|          94|      73|        3|      90|      12|       1|     32|                 7|            4|                1|            4|             8|          0|          0|          0|          0|          0|         0|             0|       210|     3|\n",
      "| 8477|         1956|     Graduado| Divorciado|26150.0|          2|              1|11-03-2013|          61|       5|        1|      13|       3|       5|      1|                 1|            1|                0|            3|             7|          0|          0|          0|          0|          0|         0|             0|        23|     3|\n",
      "|10492|         1959|     Graduado|    Juntado|38285.0|          2|              1|24-06-2014|          96|       2|        0|       5|       2|       0|      1|                 1|            0|                0|            3|             2|          0|          0|          0|          0|          0|         0|             0|        10|     3|\n",
      "| 6222|         1967|     Graduado|     Casado|22574.0|          2|              1|28-10-2013|          28|      25|        0|       8|       2|       0|      2|                 2|            2|                0|            3|             7|          0|          0|          0|          0|          0|         0|             0|        37|     3|\n",
      "| 3153|         1957|          PhD|   Solteiro|40737.0|          2|              1|08-12-2013|          24|      11|        0|       4|       0|       0|      2|                 1|            1|                0|            2|             8|          0|          0|          0|          0|          0|         0|             0|        17|     3|\n",
      "| 8953|         1965|     Mestrado|   Solteiro|35791.0|          2|              1|06-05-2013|          94|      27|        0|       5|       0|       0|      3|                 2|            1|                0|            3|             8|          0|          0|          0|          0|          0|         0|             0|        35|     3|\n",
      "|10350|         1950|          PhD|     Casado|54432.0|          2|              1|09-05-2013|          37|      33|        0|       5|       0|       0|      0|                 1|            1|                0|            3|             4|          0|          0|          0|          0|          0|         0|             0|        38|     3|\n",
      "| 8461|         1962|     Graduado| Divorciado|46102.0|          2|              1|10-03-2014|           3|      14|        0|       1|       0|       0|      1|                 1|            1|                0|            2|             7|          0|          0|          0|          0|          0|         0|             0|        16|     3|\n",
      "| 2552|         1955|          PhD|   Solteiro|55521.0|          1|              2|22-10-2013|          11|     416|        0|      26|       0|       0|      4|                 9|            6|                3|            6|             7|          0|          1|          0|          0|          0|         0|             1|       446|     3|\n",
      "| 6940|         1966|          PhD|   Solteiro|46734.0|          1|              2|21-10-2013|          86|     100|        1|      39|       6|       1|     76|                 4|            3|                2|            3|             6|          1|          0|          0|          0|          0|         0|             0|       222|     3|\n",
      "| 9579|         1959|          PhD|     Casado|33762.0|          2|              1|07-07-2013|          61|      53|        1|      34|       2|       0|     16|                 3|            2|                2|            2|             8|          0|          0|          0|          0|          0|         0|             0|       106|     3|\n",
      "|11171|         1965|     Mestrado|     Casado|56962.0|          2|              1|11-10-2013|          60|     292|        3|      77|      10|       3|     26|                 7|            6|                3|            5|             7|          0|          0|          0|          0|          0|         0|             0|       408|     3|\n",
      "| 2826|         1967|     Graduado|     Casado|22574.0|          2|              1|28-10-2013|          28|      25|        0|       8|       2|       0|      2|                 2|            2|                0|            3|             7|          0|          0|          0|          0|          0|         0|             0|        37|     3|\n",
      "+-----+-------------+-------------+-----------+-------+-----------+---------------+----------+------------+--------+---------+--------+--------+--------+-------+------------------+-------------+-----------------+-------------+--------------+-----------+-----------+-----------+-----------+-----------+----------+--------------+----------+------+\n",
      "only showing top 20 rows\n",
      "\n"
     ]
    }
   ],
   "source": [
    "df2=df2.withColumn('Filhos', F.col('QtdCriancas')+F.col('QtdAdolescentes')).orderBy('Filhos', ascending=False)\n",
    "df2.show()"
   ]
  },
  {
   "cell_type": "markdown",
   "id": "86a9e291-3cec-423f-b862-a278c160fab7",
   "metadata": {},
   "source": [
    "#### Média de compra de vinho e doces de acordo com o Estado Civil"
   ]
  },
  {
   "cell_type": "code",
   "execution_count": 21,
   "id": "7472f9d2-f871-4f79-84d5-1ed814c43fe4",
   "metadata": {},
   "outputs": [
    {
     "name": "stdout",
     "output_type": "stream",
     "text": [
      "+------------------+------------------+------------------+\n",
      "|       EstadoCivil|     avg(QtdVinho)|     avg(QtdDoces)|\n",
      "+------------------+------------------+------------------+\n",
      "|             Viúvo|367.13157894736844| 37.86842105263158|\n",
      "|        Divorciado| 324.8448275862069| 26.81896551724138|\n",
      "|           Sozinho|184.66666666666666|               7.0|\n",
      "|          Solteiro| 291.3312101910828|27.072186836518046|\n",
      "|           Absurdo|             355.5|              30.5|\n",
      "|Só se vive uma vez|             322.0|               3.0|\n",
      "|            Casado|299.85530921820305|26.751458576429403|\n",
      "|           Juntado|308.40314136125653|26.232111692844676|\n",
      "+------------------+------------------+------------------+\n",
      "\n"
     ]
    }
   ],
   "source": [
    "df2.groupBy(\"EstadoCivil\").agg({'QtdVinho':'mean','QtdDoces':'mean' }).show()"
   ]
  },
  {
   "cell_type": "markdown",
   "id": "6ddef049-9228-4e2f-b274-6a3eb073834b",
   "metadata": {},
   "source": [
    "#### Definindo nova coluna com o status se cliente tem crianças e adolescentes em casa"
   ]
  },
  {
   "cell_type": "code",
   "execution_count": 57,
   "id": "baf6f57f-94a8-43b4-a279-85acf3aa72ea",
   "metadata": {},
   "outputs": [],
   "source": [
    "df3 = (df2.withColumn(\"Status\", F.when((F.col('Filhos') >0), F.lit(\"Filhos em casa\")).otherwise(F.lit('Sem Filhos'))))"
   ]
  },
  {
   "cell_type": "code",
   "execution_count": 23,
   "id": "b0281384-846a-4b1a-a8dc-9dbb2f176320",
   "metadata": {},
   "outputs": [
    {
     "name": "stdout",
     "output_type": "stream",
     "text": [
      "+-----+-------------+-------------+-----------+-------+-----------+---------------+----------+------------+--------+---------+--------+--------+--------+-------+------------------+-------------+-----------------+-------------+--------------+-----------+-----------+-----------+-----------+-----------+----------+--------------+----------+------+----------+\n",
      "|   ID|AnoNascimento|GrauInstrucao|EstadoCivil|  Renda|QtdCriancas|QtdAdolescentes| DataConta|UltimaCompra|QtdVinho|QtdFrutas|QtdCarne|QtdPeixe|QtdDoces|QtdOuro|QtdComprasDesconto|QtdComprasWeb|QtdCompraCatalogo|QtdCompraLoja|NumVisitasSite|AceitouCam3|AceitouCam4|AceitouCam5|AceitouCam1|AceitouCam2|Reclamacao|UltimaCampanha|TotalGasto|Filhos|    Status|\n",
      "+-----+-------------+-------------+-----------+-------+-----------+---------------+----------+------------+--------+---------+--------+--------+--------+-------+------------------+-------------+-----------------+-------------+--------------+-----------+-----------+-----------+-----------+-----------+----------+--------------+----------+------+----------+\n",
      "| 5524|         1957|     Graduado|   Solteiro|58138.0|          0|              0|04-09-2012|          58|     635|       88|     546|     172|      88|     88|                 3|            8|               10|            4|             7|          0|          0|          0|          0|          0|         0|             1|      1529|     0|Sem Filhos|\n",
      "| 4141|         1965|     Graduado|    Juntado|71613.0|          0|              0|21-08-2013|          26|     426|       49|     127|     111|      21|     42|                 1|            8|                2|           10|             4|          0|          0|          0|          0|          0|         0|             0|       755|     0|Sem Filhos|\n",
      "|  387|         1976|       Básico|     Casado| 7500.0|          0|              0|13-11-2012|          59|       6|       16|      11|      11|       1|     16|                 1|            2|                0|            3|             8|          0|          0|          0|          0|          0|         0|             0|        60|     0|Sem Filhos|\n",
      "| 2125|         1959|     Graduado| Divorciado|63033.0|          0|              0|15-11-2013|          82|     194|       61|     480|     225|     112|     30|                 1|            3|                4|            8|             2|          0|          0|          0|          0|          0|         0|             0|       990|     0|Sem Filhos|\n",
      "| 2569|         1987|     Graduado|     Casado|17323.0|          0|              0|10-10-2012|          38|       3|       14|      17|       6|       1|      5|                 1|            1|                0|            3|             8|          0|          0|          0|          0|          0|         0|             0|        45|     0|Sem Filhos|\n",
      "| 2114|         1946|          PhD|   Solteiro|82800.0|          0|              0|24-11-2012|          23|    1006|       22|     115|      59|      68|     45|                 1|            7|                6|           12|             3|          0|          0|          1|          1|          0|         0|             1|      1247|     0|Sem Filhos|\n",
      "| 4939|         1946|     Graduado|    Juntado|37760.0|          0|              0|31-08-2012|          20|      84|        5|      38|     150|      12|     28|                 2|            4|                1|            6|             7|          0|          0|          0|          0|          0|         0|             0|       305|     0|Sem Filhos|\n",
      "| 9360|         1982|     Graduado|     Casado|37040.0|          0|              0|08-08-2012|          41|      86|        2|      73|      69|      38|     48|                 1|            4|                2|            5|             8|          0|          0|          0|          0|          0|         0|             0|       278|     0|Sem Filhos|\n",
      "| 7892|         1969|     Graduado|   Solteiro|18589.0|          0|              0|02-01-2013|          89|       6|        4|      25|      15|      12|     13|                 2|            2|                1|            3|             7|          0|          0|          0|          0|          0|         0|             0|        63|     0|Sem Filhos|\n",
      "| 1966|         1965|          PhD|     Casado|84618.0|          0|              0|22-11-2013|          96|     684|      100|     801|      21|      66|      0|                 1|            6|                9|           10|             2|          0|          0|          1|          0|          0|         0|             0|      1606|     0|Sem Filhos|\n",
      "| 6864|         1989|     Mestrado| Divorciado|10979.0|          0|              0|22-05-2014|          34|       8|        4|      10|       2|       2|      4|                 2|            3|                0|            3|             5|          0|          0|          0|          0|          0|         0|             0|        28|     0|Sem Filhos|\n",
      "| 3033|         1963|     Mestrado|    Juntado|38620.0|          0|              0|11-05-2013|          56|     112|       17|      44|      34|      22|     89|                 1|            2|                5|            3|             3|          0|          0|          0|          0|          0|         0|             0|       296|     0|Sem Filhos|\n",
      "| 8755|         1946|     Mestrado|     Casado|68657.0|          0|              0|20-02-2013|           4|     482|       34|     471|     119|      68|     22|                 1|            3|                5|            9|             7|          0|          0|          0|          0|          0|         0|             0|      1128|     0|Sem Filhos|\n",
      "| 2968|         1943|          PhD| Divorciado|48948.0|          0|              0|01-02-2013|          53|     437|        8|     206|     160|      49|     42|                 2|            7|               10|            5|             6|          1|          0|          0|          0|          0|         0|             1|       853|     0|Sem Filhos|\n",
      "| 1371|         1976|     Graduado|   Solteiro|79941.0|          0|              0|28-06-2014|          72|     123|      164|     266|     227|      30|    174|                 1|            2|                4|            9|             1|          0|          0|          0|          0|          0|         0|             0|       954|     0|Sem Filhos|\n",
      "| 9909|         1996|Segundo Ciclo|     Casado| 7500.0|          0|              0|09-11-2012|          24|       3|       18|      14|      15|      22|     50|                 3|            3|                1|            3|             9|          0|          0|          0|          0|          0|         0|             1|       100|     0|Sem Filhos|\n",
      "| 4114|         1964|     Mestrado|     Casado|79143.0|          0|              0|11-08-2012|           2|     650|       37|     780|      27|     167|     32|                 1|            6|                9|           13|             3|          0|          0|          0|          0|          0|         0|             0|      1526|     0|Sem Filhos|\n",
      "| 2225|         1977|     Graduado| Divorciado|82582.0|          0|              0|07-06-2014|          54|     510|      120|     550|     156|      40|    241|                 1|            4|                9|            7|             1|          1|          0|          0|          1|          0|         0|             1|      1577|     0|Sem Filhos|\n",
      "| 6260|         1955|     Mestrado|    Juntado|82384.0|          0|              0|19-11-2012|          55|     984|       51|     432|     180|     120|    190|                 1|            3|               10|           13|             1|          0|          0|          1|          0|          0|         0|             1|      1837|     0|Sem Filhos|\n",
      "|10383|         1966|     Graduado| Divorciado|70287.0|          0|              0|02-04-2013|          30|     295|       35|     482|     121|     120|     40|                 1|            5|                5|           10|             3|          0|          0|          0|          0|          0|         0|             1|       973|     0|Sem Filhos|\n",
      "+-----+-------------+-------------+-----------+-------+-----------+---------------+----------+------------+--------+---------+--------+--------+--------+-------+------------------+-------------+-----------------+-------------+--------------+-----------+-----------+-----------+-----------+-----------+----------+--------------+----------+------+----------+\n",
      "only showing top 20 rows\n",
      "\n"
     ]
    }
   ],
   "source": [
    "df3.filter(df3['Status']=='Sem Filhos').show()"
   ]
  },
  {
   "cell_type": "markdown",
   "id": "cd30ef66-2a67-4bba-be73-ed57c683178a",
   "metadata": {},
   "source": [
    "#### Pesquisa de quantidade de clientes por estado civil e grau de instrução"
   ]
  },
  {
   "cell_type": "code",
   "execution_count": 24,
   "id": "b5e2fd23-4e64-4317-8831-cf891c117ac7",
   "metadata": {},
   "outputs": [
    {
     "name": "stdout",
     "output_type": "stream",
     "text": [
      "+------------------+-----+\n",
      "|       EstadoCivil|count|\n",
      "+------------------+-----+\n",
      "|            Casado|  857|\n",
      "|           Juntado|  573|\n",
      "|          Solteiro|  471|\n",
      "|        Divorciado|  232|\n",
      "|             Viúvo|   76|\n",
      "|           Sozinho|    3|\n",
      "|           Absurdo|    2|\n",
      "|Só se vive uma vez|    2|\n",
      "+------------------+-----+\n",
      "\n"
     ]
    }
   ],
   "source": [
    "df3.groupBy('EstadoCivil').count().orderBy('count', ascending=False).show()"
   ]
  },
  {
   "cell_type": "code",
   "execution_count": 25,
   "id": "b3b5cf32-8ca5-4116-bdac-f1341b06fae9",
   "metadata": {},
   "outputs": [
    {
     "name": "stdout",
     "output_type": "stream",
     "text": [
      "+-------------+-----+\n",
      "|GrauInstrucao|count|\n",
      "+-------------+-----+\n",
      "|Segundo Ciclo|  200|\n",
      "|          PhD|  481|\n",
      "|     Graduado| 1116|\n",
      "|     Mestrado|  365|\n",
      "|       Básico|   54|\n",
      "+-------------+-----+\n",
      "\n"
     ]
    }
   ],
   "source": [
    "df3.groupBy('GrauInstrucao').count().show()"
   ]
  },
  {
   "cell_type": "markdown",
   "id": "7360fe0b-1640-428f-a8ff-b4fcf667e5a8",
   "metadata": {},
   "source": [
    "#### Cálculo da Renda Média dos clientes de acordo com o Estado Civil"
   ]
  },
  {
   "cell_type": "code",
   "execution_count": 26,
   "id": "eb06344a-0301-44bc-9c5b-094c8c8f5fa0",
   "metadata": {},
   "outputs": [
    {
     "name": "stdout",
     "output_type": "stream",
     "text": [
      "+------------------+----------+\n",
      "|       EstadoCivil|RendaMédia|\n",
      "+------------------+----------+\n",
      "|           Absurdo|   72365.5|\n",
      "|             Viúvo|  56481.55|\n",
      "|           Juntado|  53245.53|\n",
      "|        Divorciado|  52834.23|\n",
      "|            Casado|  51724.98|\n",
      "|          Solteiro|  50995.35|\n",
      "|Só se vive uma vez|   48432.0|\n",
      "|           Sozinho|   43789.0|\n",
      "+------------------+----------+\n",
      "\n"
     ]
    }
   ],
   "source": [
    "df3.groupBy('EstadoCivil').agg(F.mean('Renda').alias('RendaMédia')).orderBy('RendaMédia', ascending=False).withColumn(\"RendaMédia\",round(col('RendaMédia'),2)).show()"
   ]
  },
  {
   "cell_type": "markdown",
   "id": "ee2d166a-551d-40c0-be68-05b783d2e91c",
   "metadata": {},
   "source": [
    "#### Calculo dos gastos por cliente de acordo com o estado civil"
   ]
  },
  {
   "cell_type": "code",
   "execution_count": 27,
   "id": "b111d371-3912-4676-aa1b-0958c207e833",
   "metadata": {},
   "outputs": [
    {
     "name": "stdout",
     "output_type": "stream",
     "text": [
      "+------------------+----------+----------+\n",
      "|       EstadoCivil|RendaMédia|GastoMedia|\n",
      "+------------------+----------+----------+\n",
      "|           Absurdo|   72365.5|    1162.0|\n",
      "|             Viúvo|  56481.55|    690.09|\n",
      "|          Solteiro|  50995.35|    585.52|\n",
      "|        Divorciado|  52834.23|    583.81|\n",
      "|           Juntado|  53245.53|    582.61|\n",
      "|            Casado|  51724.98|    564.71|\n",
      "|Só se vive uma vez|   48432.0|     421.0|\n",
      "|           Sozinho|   43789.0|    249.67|\n",
      "+------------------+----------+----------+\n",
      "\n"
     ]
    }
   ],
   "source": [
    "df3.groupBy('EstadoCivil').agg(F.mean('Renda').alias('RendaMédia'), F.mean('TotalGasto').alias('GastoMedia')).orderBy('GastoMedia', ascending=False).withColumn(\"RendaMédia\",round(col('RendaMédia'),2)).withColumn(\"GastoMedia\",round(col('GastoMedia'),2)).show()"
   ]
  },
  {
   "cell_type": "markdown",
   "id": "39682650-a7dd-4464-a1ec-31bdd7937e44",
   "metadata": {},
   "source": [
    "#### Busca das idades dos clientes e foram encontrados valores destoantes como 129, 123 e 122 anos"
   ]
  },
  {
   "cell_type": "code",
   "execution_count": 58,
   "id": "9fde6070-4336-4d27-8b08-3315ece076b2",
   "metadata": {},
   "outputs": [],
   "source": [
    "df3=df3.withColumn('Idade', year(current_date())-F.col('AnoNascimento'))"
   ]
  },
  {
   "cell_type": "code",
   "execution_count": 29,
   "id": "a0ad9c24-4e14-4924-ae2e-18e98b2d8a01",
   "metadata": {},
   "outputs": [
    {
     "name": "stdout",
     "output_type": "stream",
     "text": [
      "+-----+-----+\n",
      "|Idade|count|\n",
      "+-----+-----+\n",
      "|  129|    1|\n",
      "|  123|    1|\n",
      "|  122|    1|\n",
      "|   82|    1|\n",
      "|   81|    1|\n",
      "|   79|    6|\n",
      "|   78|    7|\n",
      "|   77|    8|\n",
      "|   76|   16|\n",
      "|   75|   16|\n",
      "|   74|   21|\n",
      "|   73|   30|\n",
      "|   72|   29|\n",
      "|   71|   42|\n",
      "|   70|   52|\n",
      "|   69|   35|\n",
      "|   68|   49|\n",
      "|   67|   48|\n",
      "|   66|   55|\n",
      "|   65|   41|\n",
      "|   64|   52|\n",
      "|   63|   50|\n",
      "|   62|   49|\n",
      "|   61|   35|\n",
      "|   60|   44|\n",
      "|   59|   44|\n",
      "|   58|   41|\n",
      "|   57|   74|\n",
      "|   56|   50|\n",
      "|   55|   44|\n",
      "|   54|   51|\n",
      "|   53|   70|\n",
      "|   52|   75|\n",
      "|   51|   86|\n",
      "|   50|   78|\n",
      "|   49|   72|\n",
      "|   48|   69|\n",
      "|   47|   83|\n",
      "|   46|   89|\n",
      "|   45|   52|\n",
      "|   44|   76|\n",
      "|   43|   53|\n",
      "|   42|   39|\n",
      "|   41|   38|\n",
      "|   40|   44|\n",
      "|   39|   41|\n",
      "|   38|   38|\n",
      "|   37|   32|\n",
      "|   36|   41|\n",
      "|   35|   27|\n",
      "|   34|   29|\n",
      "|   33|   29|\n",
      "|   32|   18|\n",
      "|   31|   15|\n",
      "|   30|   13|\n",
      "|   29|    5|\n",
      "|   28|    3|\n",
      "|   27|    5|\n",
      "|   26|    2|\n",
      "+-----+-----+\n",
      "\n"
     ]
    }
   ],
   "source": [
    "df3.groupBy('Idade').count().orderBy('Idade', ascending=False).show(100)"
   ]
  },
  {
   "cell_type": "markdown",
   "id": "444f4102-e5d2-474c-82ea-ff4f5ec250e5",
   "metadata": {},
   "source": [
    "#### Definição de Faixas de Idades e Criação de um novo dataframe que só tem a Renda Grau de Instrução e Idade"
   ]
  },
  {
   "cell_type": "code",
   "execution_count": 30,
   "id": "eef12e9c-0a73-466a-85ab-14bf23415987",
   "metadata": {},
   "outputs": [
    {
     "name": "stdout",
     "output_type": "stream",
     "text": [
      "+-----+-------------+-----+-------+----------+\n",
      "|   ID|GrauInstrucao|Idade|  Renda|FaixaIdade|\n",
      "+-----+-------------+-----+-------+----------+\n",
      "| 9283|     Graduado|   44|60199.0|     40-50|\n",
      "| 9499|     Graduado|   68|93404.0|     60-70|\n",
      "| 2795|     Mestrado|   64|30523.0|     60-70|\n",
      "| 1357|     Graduado|   52|74854.0|     50-60|\n",
      "| 4370|     Graduado|   56|43482.0|     50-60|\n",
      "| 7284|     Graduado|   69|48686.0|     60-70|\n",
      "| 4148|     Graduado|   50|38988.0|     40-50|\n",
      "| 5885|Segundo Ciclo|   49|35688.0|     40-50|\n",
      "| 8477|     Graduado|   66|26150.0|     60-70|\n",
      "|10492|     Graduado|   63|38285.0|     60-70|\n",
      "| 6222|     Graduado|   55|22574.0|     50-60|\n",
      "| 3153|          PhD|   65|40737.0|     60-70|\n",
      "| 8953|     Mestrado|   57|35791.0|     50-60|\n",
      "|10350|          PhD|   72|54432.0|       >70|\n",
      "| 8461|     Graduado|   60|46102.0|     50-60|\n",
      "| 2552|          PhD|   67|55521.0|     60-70|\n",
      "| 6940|          PhD|   56|46734.0|     50-60|\n",
      "| 9579|          PhD|   63|33762.0|     60-70|\n",
      "|11171|     Mestrado|   57|56962.0|     50-60|\n",
      "| 2826|     Graduado|   55|22574.0|     50-60|\n",
      "+-----+-------------+-----+-------+----------+\n",
      "only showing top 20 rows\n",
      "\n"
     ]
    }
   ],
   "source": [
    "df4=df3.select('ID','GrauInstrucao', 'Idade', 'Renda').withColumn('FaixaIdade', F.when((col('Idade')>70), lit('>70'))\n",
    "                                                   .when((col('Idade')>60), lit('60-70'))\n",
    "                                                   .when((col('Idade')>50), lit('50-60'))\n",
    "                                                   .when((col('Idade')>40), lit('40-50'))\n",
    "                                                   .when((col('Idade')>30), lit('30-40'))\n",
    "                                                   .when((col('Idade')>20), lit('>20')))\n",
    "df4.show()"
   ]
  },
  {
   "cell_type": "markdown",
   "id": "3a691866-7928-41d7-b69d-4522626e8b08",
   "metadata": {},
   "source": [
    "#### Tabela com a renda dos clientes de acordo com a Faixa de Idade e o Grau de instrução"
   ]
  },
  {
   "cell_type": "code",
   "execution_count": 31,
   "id": "919ac12c-8397-440a-9918-1f20cc34e221",
   "metadata": {},
   "outputs": [
    {
     "name": "stdout",
     "output_type": "stream",
     "text": [
      "+-------------+-------+------------------+------------------+------------------+-----------------+------------------+\n",
      "|GrauInstrucao|    >20|             30-40|             40-50|             50-60|            60-70|               >70|\n",
      "+-------------+-------+------------------+------------------+------------------+-----------------+------------------+\n",
      "|Segundo Ciclo|64593.5| 39176.28947368421|           41534.7| 53663.17647058824|58657.27027027027| 65988.85714285714|\n",
      "|          PhD|    0.0|58421.519230769234|         53095.352|53702.156028368794|58119.43010752688| 62199.24285714285|\n",
      "|     Graduado|65198.0| 45467.30357142857| 52055.64652567976| 52530.02380952381|56757.25306122449|57529.360655737706|\n",
      "|     Mestrado|67764.5| 45843.53658536585|49641.868131868134| 52108.31428571429|57171.58139534884|         59856.175|\n",
      "|       Básico|14635.2|           19429.2|           21076.0|           21221.0|          21352.2|           27693.0|\n",
      "+-------------+-------+------------------+------------------+------------------+-----------------+------------------+\n",
      "\n"
     ]
    }
   ],
   "source": [
    "df5=df4.groupBy('GrauInstrucao').pivot('FaixaIdade').mean('Renda').fillna(0)\n",
    "df5.select(['GrauInstrucao','>20','30-40','40-50','50-60','60-70','>70' ]).show()"
   ]
  },
  {
   "cell_type": "markdown",
   "id": "878afad6-21b1-41e9-bdee-8884d011a5bc",
   "metadata": {},
   "source": [
    "#### Numero de compras pelo website, catalogo e loja conforme o estado civil"
   ]
  },
  {
   "cell_type": "code",
   "execution_count": 32,
   "id": "b377ae1c-6408-4a4b-a648-41f973e2c4f7",
   "metadata": {},
   "outputs": [
    {
     "name": "stdout",
     "output_type": "stream",
     "text": [
      "+------------------+----+--------+----+\n",
      "|       EstadoCivil| Web|Catalogo|Loja|\n",
      "+------------------+----+--------+----+\n",
      "|           Absurdo|   7|      15|  13|\n",
      "|Só se vive uma vez|  14|       2|  12|\n",
      "|           Sozinho|  15|       2|  12|\n",
      "|             Viúvo| 351|     251| 483|\n",
      "|        Divorciado|1000|     620|1350|\n",
      "|          Solteiro|1814|    1240|2674|\n",
      "|           Juntado|2351|    1535|3298|\n",
      "|            Casado|3501|    2254|5013|\n",
      "+------------------+----+--------+----+\n",
      "\n"
     ]
    }
   ],
   "source": [
    "w0=Window.partitionBy(F.col('EstadoCivil'))\n",
    "w1=Window.partitionBy(F.col('EstadoCivil')).orderBy('ID')\n",
    "a=df3.withColumn('rank', F.rank().over(w1)).withColumn('Web',F.sum('QtdComprasWeb').over(w0)).withColumn('Catalogo', F.sum('QtdCompraCatalogo').over(w0)).withColumn('Loja', F.sum('QtdCompraLoja').over(w0)).where(F.col('rank')==1).select('EstadoCivil', 'Web', 'Catalogo', 'Loja')\n",
    "a.sort('Web').show()"
   ]
  },
  {
   "cell_type": "markdown",
   "id": "6773f0d0-5e98-4fcd-845f-fdb1adbd33ff",
   "metadata": {},
   "source": [
    "#### Definição de outro dataframe com a faixa etária que tenha o número de reclamações para verificação de qual grupo etário mais fez reclamações"
   ]
  },
  {
   "cell_type": "code",
   "execution_count": 33,
   "id": "30eb0984-403b-488e-8b31-101ba60f1a3e",
   "metadata": {},
   "outputs": [],
   "source": [
    "df6=df3.select('GrauInstrucao', 'Idade', 'Renda', 'Reclamacao').withColumn('FaixaIdade', F.when((col('Idade')>70), lit('>70'))\n",
    "                                                   .when((col('Idade')>60), lit('60-70'))\n",
    "                                                   .when((col('Idade')>50), lit('50-60'))\n",
    "                                                   .when((col('Idade')>40), lit('40-50'))\n",
    "                                                   .when((col('Idade')>30), lit('30-40'))\n",
    "                                                   .when((col('Idade')>20), lit('>20')))"
   ]
  },
  {
   "cell_type": "code",
   "execution_count": 34,
   "id": "df3171ce-efa1-4ad3-8abe-e798bb8c3e04",
   "metadata": {},
   "outputs": [
    {
     "name": "stdout",
     "output_type": "stream",
     "text": [
      "+----------+---------------+\n",
      "|FaixaIdade|TotalReclamação|\n",
      "+----------+---------------+\n",
      "|     60-70|              6|\n",
      "|     40-50|              6|\n",
      "|       >70|              4|\n",
      "|     30-40|              3|\n",
      "|     50-60|              1|\n",
      "|       >20|              1|\n",
      "+----------+---------------+\n",
      "\n"
     ]
    }
   ],
   "source": [
    "win0=Window.partitionBy(F.col('FaixaIdade'))\n",
    "win1=Window.partitionBy(F.col('FaixaIdade')).orderBy('Reclamacao')\n",
    "df7=df6.withColumn('rank', F.row_number().over(win1)).withColumn('TotalReclamação',sum('Reclamacao').over(win0)).where(F.col('rank') == 1).select('FaixaIdade', 'TotalReclamação')\n",
    "df7.orderBy('TotalReclamação', ascending=False).show()"
   ]
  },
  {
   "cell_type": "code",
   "execution_count": 35,
   "id": "3a02f3da-3965-4c57-8ecd-23a9786a90eb",
   "metadata": {},
   "outputs": [
    {
     "name": "stdout",
     "output_type": "stream",
     "text": [
      "+----------+---------------+\n",
      "|FaixaIdade|TotalReclamação|\n",
      "+----------+---------------+\n",
      "|     60-70|              6|\n",
      "|     40-50|              6|\n",
      "|       >70|              4|\n",
      "|     30-40|              3|\n",
      "|       >20|              1|\n",
      "|     50-60|              1|\n",
      "+----------+---------------+\n",
      "\n"
     ]
    }
   ],
   "source": [
    "df6.groupBy('FaixaIdade').agg(sum('Reclamacao').alias('TotalReclamação')).orderBy('TotalReclamação', ascending=False).show()"
   ]
  },
  {
   "cell_type": "markdown",
   "id": "308b21c7-ac2b-4556-b862-f812becb0f3a",
   "metadata": {},
   "source": [
    "---\n",
    "## SparkSQL\n",
    "---"
   ]
  },
  {
   "cell_type": "markdown",
   "id": "36d397f8-1e52-40c8-a65c-63598b7c085f",
   "metadata": {},
   "source": [
    "### Definição da Tabelas que serão usadas nas queries"
   ]
  },
  {
   "cell_type": "code",
   "execution_count": 36,
   "id": "dc047595-7528-40b2-825c-a5247a30d075",
   "metadata": {},
   "outputs": [],
   "source": [
    "df2.createOrReplaceTempView(\"clientes\")"
   ]
  },
  {
   "cell_type": "code",
   "execution_count": 37,
   "id": "dc03309b-2bd2-41fc-96c9-404e69ec870d",
   "metadata": {},
   "outputs": [
    {
     "name": "stdout",
     "output_type": "stream",
     "text": [
      "+-----+-------------+-------------+-----------+-------+-----------+---------------+----------+------------+--------+---------+--------+--------+--------+-------+------------------+-------------+-----------------+-------------+--------------+-----------+-----------+-----------+-----------+-----------+----------+--------------+----------+------+--------------+-----+\n",
      "|   ID|AnoNascimento|GrauInstrucao|EstadoCivil|  Renda|QtdCriancas|QtdAdolescentes| DataConta|UltimaCompra|QtdVinho|QtdFrutas|QtdCarne|QtdPeixe|QtdDoces|QtdOuro|QtdComprasDesconto|QtdComprasWeb|QtdCompraCatalogo|QtdCompraLoja|NumVisitasSite|AceitouCam3|AceitouCam4|AceitouCam5|AceitouCam1|AceitouCam2|Reclamacao|UltimaCampanha|TotalGasto|Filhos|        Status|Idade|\n",
      "+-----+-------------+-------------+-----------+-------+-----------+---------------+----------+------------+--------+---------+--------+--------+--------+-------+------------------+-------------+-----------------+-------------+--------------+-----------+-----------+-----------+-----------+-----------+----------+--------------+----------+------+--------------+-----+\n",
      "| 9283|         1978|     Graduado|   Solteiro|60199.0|          1|              2|2013-01-12|          49|       8|        1|       7|       2|       0|      0|                 1|            0|                0|            3|             4|          0|          0|          0|          0|          0|         0|             0|        18|     3|Filhos em casa|   44|\n",
      "| 9499|         1954|     Graduado|     Casado|93404.0|          1|              2|2013-01-07|          97|    1279|       15|     287|      20|       0|     15|                 3|            3|                4|            7|             5|          0|          1|          1|          0|          0|         0|             0|      1616|     3|Filhos em casa|   68|\n",
      "| 2795|         1958|     Mestrado|   Solteiro|30523.0|          2|              1|2013-01-01|           0|       5|        0|       3|       0|       0|      5|                 1|            1|                0|            2|             7|          0|          0|          0|          0|          0|         0|             0|        13|     3|Filhos em casa|   64|\n",
      "| 1357|         1970|     Graduado|    Juntado|74854.0|          1|              2|2013-01-08|          90|     856|       59|     487|      58|      29|     73|                 7|            2|                5|            5|             5|          0|          0|          0|          0|          0|         0|             0|      1533|     3|Filhos em casa|   52|\n",
      "| 4370|         1966|     Graduado|    Juntado|43482.0|          2|              1|2013-01-13|          83|      18|        1|      32|       6|       3|     28|                 3|            2|                0|            4|             6|          0|          0|          0|          0|          0|         0|             0|        85|     3|Filhos em casa|   56|\n",
      "| 7284|         1953|     Graduado|     Casado|48686.0|          1|              2|2013-01-04|           8|      10|        0|       7|       2|       0|      1|                 1|            1|                0|            2|             8|          0|          0|          0|          0|          0|         0|             0|        20|     3|Filhos em casa|   69|\n",
      "| 4148|         1972|     Graduado|     Casado|38988.0|          1|              2|2012-01-20|          90|     164|       24|     103|      12|       3|     42|                 7|            5|                1|            6|             8|          0|          0|          0|          0|          0|         0|             0|       345|     3|Filhos em casa|   50|\n",
      "| 5885|         1973|Segundo Ciclo|     Casado|35688.0|          2|              1|2012-01-22|          94|      73|        3|      90|      12|       1|     32|                 7|            4|                1|            4|             8|          0|          0|          0|          0|          0|         0|             0|       210|     3|Filhos em casa|   49|\n",
      "| 8477|         1956|     Graduado| Divorciado|26150.0|          2|              1|2013-01-11|          61|       5|        1|      13|       3|       5|      1|                 1|            1|                0|            3|             7|          0|          0|          0|          0|          0|         0|             0|        23|     3|Filhos em casa|   66|\n",
      "|10492|         1959|     Graduado|    Juntado|38285.0|          2|              1|2014-01-24|          96|       2|        0|       5|       2|       0|      1|                 1|            0|                0|            3|             2|          0|          0|          0|          0|          0|         0|             0|        10|     3|Filhos em casa|   63|\n",
      "| 6222|         1967|     Graduado|     Casado|22574.0|          2|              1|2013-01-28|          28|      25|        0|       8|       2|       0|      2|                 2|            2|                0|            3|             7|          0|          0|          0|          0|          0|         0|             0|        37|     3|Filhos em casa|   55|\n",
      "| 3153|         1957|          PhD|   Solteiro|40737.0|          2|              1|2013-01-08|          24|      11|        0|       4|       0|       0|      2|                 1|            1|                0|            2|             8|          0|          0|          0|          0|          0|         0|             0|        17|     3|Filhos em casa|   65|\n",
      "| 8953|         1965|     Mestrado|   Solteiro|35791.0|          2|              1|2013-01-06|          94|      27|        0|       5|       0|       0|      3|                 2|            1|                0|            3|             8|          0|          0|          0|          0|          0|         0|             0|        35|     3|Filhos em casa|   57|\n",
      "|10350|         1950|          PhD|     Casado|54432.0|          2|              1|2013-01-09|          37|      33|        0|       5|       0|       0|      0|                 1|            1|                0|            3|             4|          0|          0|          0|          0|          0|         0|             0|        38|     3|Filhos em casa|   72|\n",
      "| 8461|         1962|     Graduado| Divorciado|46102.0|          2|              1|2014-01-10|           3|      14|        0|       1|       0|       0|      1|                 1|            1|                0|            2|             7|          0|          0|          0|          0|          0|         0|             0|        16|     3|Filhos em casa|   60|\n",
      "| 2552|         1955|          PhD|   Solteiro|55521.0|          1|              2|2013-01-22|          11|     416|        0|      26|       0|       0|      4|                 9|            6|                3|            6|             7|          0|          1|          0|          0|          0|         0|             1|       446|     3|Filhos em casa|   67|\n",
      "| 6940|         1966|          PhD|   Solteiro|46734.0|          1|              2|2013-01-21|          86|     100|        1|      39|       6|       1|     76|                 4|            3|                2|            3|             6|          1|          0|          0|          0|          0|         0|             0|       222|     3|Filhos em casa|   56|\n",
      "| 9579|         1959|          PhD|     Casado|33762.0|          2|              1|2013-01-07|          61|      53|        1|      34|       2|       0|     16|                 3|            2|                2|            2|             8|          0|          0|          0|          0|          0|         0|             0|       106|     3|Filhos em casa|   63|\n",
      "|11171|         1965|     Mestrado|     Casado|56962.0|          2|              1|2013-01-11|          60|     292|        3|      77|      10|       3|     26|                 7|            6|                3|            5|             7|          0|          0|          0|          0|          0|         0|             0|       408|     3|Filhos em casa|   57|\n",
      "| 2826|         1967|     Graduado|     Casado|22574.0|          2|              1|2013-01-28|          28|      25|        0|       8|       2|       0|      2|                 2|            2|                0|            3|             7|          0|          0|          0|          0|          0|         0|             0|        37|     3|Filhos em casa|   55|\n",
      "+-----+-------------+-------------+-----------+-------+-----------+---------------+----------+------------+--------+---------+--------+--------+--------+-------+------------------+-------------+-----------------+-------------+--------------+-----------+-----------+-----------+-----------+-----------+----------+--------------+----------+------+--------------+-----+\n",
      "only showing top 20 rows\n",
      "\n"
     ]
    }
   ],
   "source": [
    "###SQL\n",
    "df3=df3.withColumn('DataConta', F.to_date(F.col('DataConta'), 'dd-mm-yyyy'))\n",
    "df3.createOrReplaceTempView('clientes')\n",
    "df4.createOrReplaceTempView('clientesFaixa')\n",
    "spark.sql(\"SELECT * FROM clientes\").show()"
   ]
  },
  {
   "cell_type": "markdown",
   "id": "0d06190b-f5c2-4b8c-b1f9-d98b6639f368",
   "metadata": {},
   "source": [
    "#### Verificação da quantidade de clientes com renda superior a 50000"
   ]
  },
  {
   "cell_type": "code",
   "execution_count": 38,
   "id": "2c531837-0712-4ec4-a5d7-30429cabd16d",
   "metadata": {},
   "outputs": [
    {
     "name": "stdout",
     "output_type": "stream",
     "text": [
      "+------------+\n",
      "|count(Renda)|\n",
      "+------------+\n",
      "|        1156|\n",
      "+------------+\n",
      "\n"
     ]
    }
   ],
   "source": [
    "spark.sql(\"SELECT count(Renda) from clientes\\\n",
    "          where Renda>50000\").show()"
   ]
  },
  {
   "cell_type": "markdown",
   "id": "5c83d799-2d3a-4b06-b447-1909c1adf82f",
   "metadata": {},
   "source": [
    "#### Quantidade de clientes que não fizeram compras nos ultimos 2 meses"
   ]
  },
  {
   "cell_type": "code",
   "execution_count": 39,
   "id": "fbfe1ced-75ab-4329-8568-1da1721d87e3",
   "metadata": {},
   "outputs": [
    {
     "name": "stdout",
     "output_type": "stream",
     "text": [
      "+-----+-------------+-------------+-----------+-------+-----------+---------------+----------+------------+--------+---------+--------+--------+--------+-------+------------------+-------------+-----------------+-------------+--------------+-----------+-----------+-----------+-----------+-----------+----------+--------------+----------+------+--------------+-----+\n",
      "|   ID|AnoNascimento|GrauInstrucao|EstadoCivil|  Renda|QtdCriancas|QtdAdolescentes| DataConta|UltimaCompra|QtdVinho|QtdFrutas|QtdCarne|QtdPeixe|QtdDoces|QtdOuro|QtdComprasDesconto|QtdComprasWeb|QtdCompraCatalogo|QtdCompraLoja|NumVisitasSite|AceitouCam3|AceitouCam4|AceitouCam5|AceitouCam1|AceitouCam2|Reclamacao|UltimaCampanha|TotalGasto|Filhos|        Status|Idade|\n",
      "+-----+-------------+-------------+-----------+-------+-----------+---------------+----------+------------+--------+---------+--------+--------+--------+-------+------------------+-------------+-----------------+-------------+--------------+-----------+-----------+-----------+-----------+-----------+----------+--------------+----------+------+--------------+-----+\n",
      "| 7829|         1900|Segundo Ciclo| Divorciado|36640.0|          1|              0|2013-01-26|          99|      15|        6|       8|       7|       4|     25|                 1|            2|                1|            2|             5|          0|          0|          0|          0|          0|         1|             0|        61|     1|Filhos em casa|  122|\n",
      "|10142|         1976|          PhD| Divorciado|66476.0|          0|              1|2013-01-07|          99|     372|       18|     126|      47|      48|     78|                 2|            5|                2|           11|             4|          0|          0|          0|          0|          0|         0|             0|       641|     1|Filhos em casa|   46|\n",
      "|   22|         1976|     Graduado| Divorciado|46310.0|          1|              0|2012-01-03|          99|     185|        2|      88|      15|       5|     14|                 2|            6|                1|            5|             8|          0|          0|          0|          0|          0|         0|             0|       304|     1|Filhos em casa|   46|\n",
      "| 7232|         1973|     Graduado|      Viúvo|42429.0|          0|              1|2014-01-11|          99|      55|        0|       6|       2|       0|      4|                 2|            1|                1|            3|             5|          0|          0|          0|          0|          0|         0|             0|        67|     1|Filhos em casa|   49|\n",
      "| 9977|         1973|     Graduado| Divorciado|78901.0|          0|              1|2013-01-17|          99|     321|       11|     309|      33|      26|     34|                 3|            9|                3|            5|             4|          0|          0|          0|          0|          0|         0|             0|       708|     1|Filhos em casa|   49|\n",
      "| 8595|         1973|     Graduado|      Viúvo|42429.0|          0|              1|2014-01-11|          99|      55|        0|       6|       2|       0|      4|                 2|            1|                1|            3|             5|          0|          0|          0|          0|          0|         0|             0|        67|     1|Filhos em casa|   49|\n",
      "| 3363|         1974|Segundo Ciclo|     Casado|20130.0|          0|              0|2014-01-17|          99|       0|        6|       3|       7|       6|     12|                 1|            1|                0|            3|             8|          0|          0|          0|          0|          0|         0|             0|        28|     0|    Sem Filhos|   48|\n",
      "| 4070|         1969|          PhD|     Casado|94871.0|          0|              2|2012-01-01|          99|     169|       24|     553|     188|       0|    144|                 1|            8|                5|            4|             7|          0|          1|          1|          0|          0|         0|             1|      1078|     2|Filhos em casa|   53|\n",
      "|  528|         1978|     Graduado|     Casado|65819.0|          0|              0|2012-01-29|          99|     267|       38|     701|     149|     165|     63|                 1|            5|                4|           10|             3|          0|          0|          0|          0|          0|         0|             0|      1218|     0|    Sem Filhos|   44|\n",
      "| 7947|         1969|     Graduado|     Casado|42231.0|          1|              1|2014-01-25|          99|      24|        0|       8|       0|       1|      4|                 1|            1|                0|            3|             5|          0|          0|          0|          0|          0|         0|             0|        36|     2|Filhos em casa|   53|\n",
      "| 2831|         1976|     Graduado|    Juntado|78416.0|          0|              1|2014-01-27|          99|     453|       38|     279|     188|      38|    183|                 2|            7|                7|           10|             3|          0|          0|          0|          0|          0|         0|             0|      1141|     1|Filhos em casa|   46|\n",
      "| 2415|         1962|     Graduado|    Juntado|62568.0|          0|              1|2014-01-07|          99|     362|       17|     398|      80|      35|     61|                 3|            5|                3|            5|             4|          0|          0|          0|          1|          0|         0|             0|       918|     1|Filhos em casa|   60|\n",
      "| 1743|         1974|     Graduado|   Solteiro|69719.0|          0|              0|2014-01-26|          99|     273|       86|     208|     177|      14|     43|                 1|            2|                3|            5|             1|          0|          0|          0|          0|          0|         0|             0|       787|     0|    Sem Filhos|   48|\n",
      "| 7212|         1966|     Graduado|     Casado|44794.0|          0|              1|2014-01-08|          99|      54|        0|       7|       0|       0|      4|                 1|            2|                0|            3|             6|          0|          0|          0|          0|          0|         0|             0|        65|     1|Filhos em casa|   56|\n",
      "|  868|         1966|     Graduado|     Casado|44794.0|          0|              1|2014-01-08|          99|      54|        0|       7|       0|       0|      4|                 1|            2|                0|            3|             6|          0|          0|          0|          0|          0|         0|             0|        65|     1|Filhos em casa|   56|\n",
      "| 5263|         1977|Segundo Ciclo|     Casado|31056.0|          1|              0|2013-01-22|          99|       5|       10|      13|       3|       8|     16|                 1|            1|                0|            3|             8|          0|          0|          0|          0|          0|         0|             0|        47|     1|Filhos em casa|   45|\n",
      "| 2106|         1974|Segundo Ciclo|     Casado|20130.0|          0|              0|2014-01-17|          99|       0|        6|       3|       7|       6|     12|                 1|            1|                0|            3|             8|          0|          0|          0|          0|          0|         0|             0|        28|     0|    Sem Filhos|   48|\n",
      "|  313|         1968|     Graduado|      Viúvo|73455.0|          0|              0|2013-01-28|          98|     901|       61|     757|     186|     163|     20|                 1|            6|                5|           10|             3|          0|          1|          0|          0|          0|         0|             0|      1925|     0|    Sem Filhos|   54|\n",
      "| 5602|         1989|          PhD|    Juntado|66973.0|          0|              0|2013-01-17|          98|     466|       22|     432|     147|     113|    102|                 1|            8|                7|           12|             3|          0|          0|          0|          0|          0|         0|             0|      1169|     0|    Sem Filhos|   33|\n",
      "| 8541|         1990|Segundo Ciclo|     Casado|24683.0|          1|              0|2014-01-08|          98|       8|        4|      10|       6|       7|      6|                 2|            2|                0|            4|             5|          0|          0|          0|          0|          0|         0|             0|        34|     1|Filhos em casa|   32|\n",
      "+-----+-------------+-------------+-----------+-------+-----------+---------------+----------+------------+--------+---------+--------+--------+--------+-------+------------------+-------------+-----------------+-------------+--------------+-----------+-----------+-----------+-----------+-----------+----------+--------------+----------+------+--------------+-----+\n",
      "only showing top 20 rows\n",
      "\n"
     ]
    }
   ],
   "source": [
    "spark.sql(\"SELECT * FROM clientes\\\n",
    "        WHERE UltimaCompra>60\\\n",
    "        order by UltimaCompra DESC\").show()"
   ]
  },
  {
   "cell_type": "markdown",
   "id": "b4656e62-77b2-4092-a443-50fc7c0dd9d0",
   "metadata": {},
   "source": [
    "#### Quantidade de clientes que abriram a conta por ano e quanto foi gasto"
   ]
  },
  {
   "cell_type": "code",
   "execution_count": 40,
   "id": "d39319ce-a2dd-4156-a9f7-7ecce24d15ed",
   "metadata": {},
   "outputs": [
    {
     "name": "stdout",
     "output_type": "stream",
     "text": [
      "+----+----------------+----------------------+\n",
      "| ano|TotalPorAnoConta|TotalClienteAbriuConta|\n",
      "+----+----------------+----------------------+\n",
      "|2014|          260252|                   553|\n",
      "|2012|          350096|                   490|\n",
      "|2013|          675035|                  1173|\n",
      "+----+----------------+----------------------+\n",
      "\n"
     ]
    }
   ],
   "source": [
    "spark.sql('SELECT EXTRACT(year FROM DataConta) AS ano,\\\n",
    "           SUM(TotalGasto) as TotalPorAnoConta,\\\n",
    "           COUNT(ID) as TotalClienteAbriuConta\\\n",
    "           FROM clientes\\\n",
    "           GROUP BY EXTRACT(year FROM DataConta)\\\n",
    "           ORDER BY TotalPorAnoConta').show()"
   ]
  },
  {
   "cell_type": "markdown",
   "id": "44f5ac90-2397-41a2-ad38-65c703d8ad5d",
   "metadata": {},
   "source": [
    "#### Média de compras com desconto e pela internet por Grau de Instrução"
   ]
  },
  {
   "cell_type": "code",
   "execution_count": 41,
   "id": "cf9fb109-9ed3-4111-aa8c-ba1b5008ffba",
   "metadata": {},
   "outputs": [
    {
     "name": "stdout",
     "output_type": "stream",
     "text": [
      "+-------------+------------------------+-------------------+---------+\n",
      "|GrauInstrucao|mean(QtdComprasDesconto)|mean(QtdComprasWeb)|count(ID)|\n",
      "+-------------+------------------------+-------------------+---------+\n",
      "|       Básico|      1.7962962962962963| 1.8888888888888888|       54|\n",
      "|Segundo Ciclo|                    2.26|              3.765|      200|\n",
      "|     Mestrado|      2.4246575342465753|  4.035616438356165|      365|\n",
      "|     Graduado|      2.3118279569892475|  4.115591397849462|     1116|\n",
      "|          PhD|        2.35966735966736| 4.4324324324324325|      481|\n",
      "+-------------+------------------------+-------------------+---------+\n",
      "\n"
     ]
    }
   ],
   "source": [
    "spark.sql('SELECT GrauInstrucao, MEAN(QtdComprasDesconto),MEAN(QtdComprasWeb), COUNT(ID) \\\n",
    "        FROM clientes\\\n",
    "        GROUP BY GrauInstrucao\\\n",
    "        ORDER BY MEAN(QtdComprasWeb) ').show()"
   ]
  },
  {
   "cell_type": "markdown",
   "id": "34e9ee80-0794-4ec4-abce-23f80027d21d",
   "metadata": {},
   "source": [
    "#### Gastos por faixa de idade"
   ]
  },
  {
   "cell_type": "code",
   "execution_count": 42,
   "id": "90dc8094-0bae-411f-a132-7b6ddf1a867b",
   "metadata": {},
   "outputs": [
    {
     "name": "stdout",
     "output_type": "stream",
     "text": [
      "+----------+-----------------+\n",
      "|FaixaIdade| mean(TotalGasto)|\n",
      "+----------+-----------------+\n",
      "|     40-50|476.1648690292758|\n",
      "|       >20|788.1785714285714|\n",
      "|       >70|            750.3|\n",
      "|     60-70|667.2317596566523|\n",
      "|     50-60|583.6303972366148|\n",
      "|     30-40|542.6019108280254|\n",
      "+----------+-----------------+\n",
      "\n"
     ]
    }
   ],
   "source": [
    "spark.sql('SELECT FaixaIdade, mean(TotalGasto) \\\n",
    "from clientes, clientesFaixa \\\n",
    "where clientes.ID=clientesFaixa.ID \\\n",
    "group by FaixaIdade' ).show()"
   ]
  },
  {
   "cell_type": "code",
   "execution_count": 52,
   "id": "ab213fce-a850-42cd-a403-7e742e2d25b8",
   "metadata": {},
   "outputs": [],
   "source": []
  },
  {
   "cell_type": "code",
   "execution_count": 61,
   "id": "19b83327-ad49-47c7-aa7d-ba69ee9c2989",
   "metadata": {},
   "outputs": [],
   "source": [
    "\n"
   ]
  },
  {
   "cell_type": "code",
   "execution_count": null,
   "id": "7b6ca8ee-c438-47df-bc14-c8d644015cf8",
   "metadata": {},
   "outputs": [],
   "source": []
  }
 ],
 "metadata": {
  "kernelspec": {
   "display_name": "Python 3",
   "language": "python",
   "name": "python3"
  },
  "language_info": {
   "codemirror_mode": {
    "name": "ipython",
    "version": 3
   },
   "file_extension": ".py",
   "mimetype": "text/x-python",
   "name": "python",
   "nbconvert_exporter": "python",
   "pygments_lexer": "ipython3",
   "version": "3.9.7"
  }
 },
 "nbformat": 4,
 "nbformat_minor": 5
}
