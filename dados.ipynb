{
 "cells": [
  {
   "cell_type": "code",
   "execution_count": 22,
   "id": "5354cbda-b9fb-464a-a373-9d303962910e",
   "metadata": {},
   "outputs": [],
   "source": [
    "#Importação de Bibliotecas necessárias para importar e exportar o dados\n",
    "import pymongo as py\n",
    "from pymongo import MongoClient\n",
    "import pandas as pd\n",
    "from pyspark.sql import SparkSession\n",
    "from pyspark import SparkConf\n",
    "import pyspark.sql.functions as F\n",
    "from pyspark.sql.types import *"
   ]
  },
  {
   "cell_type": "markdown",
   "id": "b4a08e55-40d5-4609-a96a-6a8ee5329d21",
   "metadata": {},
   "source": [
    "#### Leitura do arquivo csv com pandas e passar para dicionário"
   ]
  },
  {
   "cell_type": "code",
   "execution_count": null,
   "id": "3702064f-58ad-4b08-94f6-97fb5c7835a1",
   "metadata": {},
   "outputs": [],
   "source": [
    "df=pd.read_csv('https://storage.googleapis.com/soulcodeprojeto/marketing_campaign.csv', index_col=0)\n",
    "dic= df.to_dict('records')"
   ]
  },
  {
   "cell_type": "markdown",
   "id": "1ae136de-de7c-4803-aa70-bbc0a96cac26",
   "metadata": {},
   "source": [
    "#### Conexão com o MongoDB e com o banco de dados 'analise_clientes' e a coleção 'clientes' e inserção dos dados\n",
    "**Usuário: soulcode Senha: a1b2c3** usuário liberado para leitura da coleção clientes"
   ]
  },
  {
   "cell_type": "markdown",
   "id": "6c5c12ce-35b6-4a47-a6de-96a3cfec6fe6",
   "metadata": {},
   "source": [
    "##### Código esta como texto, pois já foi rodado uma vez\n",
    "\n",
    "```Python \n",
    "client = py.MongoClient(\"mongodb+srv://<user>:<senha>@clustersoulcode.iowco.mongodb.net/analise_clientes?retryWrites=true&w=majority\")\n",
    "\n",
    "db=client[\"analise_clientes\"]\n",
    "\n",
    "colecao=db.clientes\n",
    "\n",
    "colecao.insert_many(dic)\n",
    "``` "
   ]
  },
  {
   "cell_type": "code",
   "execution_count": null,
   "id": "25aa14e5-cd52-4059-9e4a-4b40d4284333",
   "metadata": {},
   "outputs": [],
   "source": []
  },
  {
   "cell_type": "code",
   "execution_count": null,
   "id": "334a3aff-ecaa-4698-aba8-5f0f6314d1ce",
   "metadata": {},
   "outputs": [],
   "source": []
  },
  {
   "cell_type": "code",
   "execution_count": null,
   "id": "46871822-cef5-4b14-aefe-74841b551fa2",
   "metadata": {},
   "outputs": [],
   "source": []
  }
 ],
 "metadata": {
  "kernelspec": {
   "display_name": "Python 3 (ipykernel)",
   "language": "python",
   "name": "python3"
  },
  "language_info": {
   "codemirror_mode": {
    "name": "ipython",
    "version": 3
   },
   "file_extension": ".py",
   "mimetype": "text/x-python",
   "name": "python",
   "nbconvert_exporter": "python",
   "pygments_lexer": "ipython3",
   "version": "3.9.7"
  }
 },
 "nbformat": 4,
 "nbformat_minor": 5
}
