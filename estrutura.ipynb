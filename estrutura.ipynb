{
 "cells": [
  {
   "cell_type": "code",
   "execution_count": 1,
   "id": "13356483-3f20-4568-84c4-8c3355af2f75",
   "metadata": {},
   "outputs": [],
   "source": [
    "%run dados.ipynb"
   ]
  },
  {
   "cell_type": "code",
   "execution_count": 2,
   "id": "5f17df39-aef6-4f60-988c-c3d0e401bbe8",
   "metadata": {},
   "outputs": [
    {
     "name": "stderr",
     "output_type": "stream",
     "text": [
      "22/03/18 21:22:04 WARN Utils: Your hostname, eveline-Inspiron-5557 resolves to a loopback address: 127.0.1.1; using 192.168.1.47 instead (on interface enp3s0)\n",
      "22/03/18 21:22:04 WARN Utils: Set SPARK_LOCAL_IP if you need to bind to another address\n",
      "WARNING: An illegal reflective access operation has occurred\n",
      "WARNING: Illegal reflective access by org.apache.spark.unsafe.Platform (file:/home/eveline/anaconda3/lib/python3.9/site-packages/pyspark/jars/spark-unsafe_2.12-3.2.1.jar) to constructor java.nio.DirectByteBuffer(long,int)\n",
      "WARNING: Please consider reporting this to the maintainers of org.apache.spark.unsafe.Platform\n",
      "WARNING: Use --illegal-access=warn to enable warnings of further illegal reflective access operations\n",
      "WARNING: All illegal access operations will be denied in a future release\n",
      "22/03/18 21:22:05 WARN NativeCodeLoader: Unable to load native-hadoop library for your platform... using builtin-java classes where applicable\n",
      "Using Spark's default log4j profile: org/apache/spark/log4j-defaults.properties\n",
      "Setting default log level to \"WARN\".\n",
      "To adjust logging level use sc.setLogLevel(newLevel). For SparkR, use setLogLevel(newLevel).\n"
     ]
    }
   ],
   "source": [
    "spark = (SparkSession.builder\n",
    "        .master(\"local\")\n",
    "        .appName(\"projetosoulcode\")\n",
    "        .config('spark.jars','gcs-connector-hadoop3-latest.jar' )\n",
    "        .config('spark.hadoop.fs.gs.impl','com.google.cloud.hadoop.fs.gcs.GoogleHadoopFileSystem')\n",
    "        .config('spark.hadoop.fs.gs.auth.service.account.enable', 'true')\n",
    "        .config(\"spark.hadoop.google.cloud.auth.service.account.json.keyfile\",'soulcodeproject-44ce61622773.json')\n",
    "        .config('spark.hadoop.fs.gs.project.id','soulcodeproject')\n",
    "        .getOrCreate())\n",
    "spark.conf.set(\"spark.sql.caseSensitive\", \"true\")"
   ]
  },
  {
   "cell_type": "code",
   "execution_count": 3,
   "id": "cf178fa0-d914-4844-89c1-70a7d6f22473",
   "metadata": {},
   "outputs": [],
   "source": [
    "schema = (\n",
    "    StructType([\n",
    "        StructField(\"ID\",IntegerType(), False),\n",
    "        StructField(\"AnoNascimento\", IntegerType(), False),\n",
    "        StructField(\"GrauInstrução\", StringType(), True),\n",
    "        StructField(\"EstadoCivil\", StringType(), True),\n",
    "        StructField(\"Renda\", DoubleType(), True),\n",
    "        StructField(\"NumCrianca\", IntegerType(), True),\n",
    "        StructField(\"NumAdolescente\", IntegerType(), True),\n",
    "        StructField(\"DataConta\", StringType(), True),\n",
    "        StructField(\"UltimaCompra\", IntegerType(), True),\n",
    "        StructField(\"QtdVinho\", IntegerType(), True),\n",
    "        StructField(\"QtdFrutas\", IntegerType(), True),\n",
    "        StructField(\"QtdCarne\", IntegerType(), True),\n",
    "        StructField(\"QtdPeixe\", IntegerType(), True),\n",
    "        StructField(\"QtdDoces\", IntegerType(), True),\n",
    "        StructField(\"QtdOuro\", IntegerType(), True),\n",
    "        StructField(\"QtdComprasDesconto\", IntegerType(), True),\n",
    "        StructField(\"QtdComprasWeb\", IntegerType(), True),\n",
    "        StructField(\"QtdCompraCatalogo\", IntegerType(), True),\n",
    "        StructField(\"QtdCompraLoja\", IntegerType(), True),\n",
    "        StructField(\"NumVisitasSite\", IntegerType(), True),\n",
    "        StructField(\"AceitouCam3\", IntegerType(), True),\n",
    "        StructField(\"AceitouCam4\", IntegerType(), True),\n",
    "        StructField(\"AceitouCam5\", IntegerType(), True),\n",
    "        StructField(\"AceitouCam1\", IntegerType(), True),\n",
    "        StructField(\"AceitouCam2\", IntegerType(), True),\n",
    "        StructField(\"Reclamacao\", IntegerType(), True),\n",
    "        StructField(\"CustoContato\", IntegerType(), True),\n",
    "        StructField(\"Receita\", IntegerType(), True),\n",
    "        StructField(\"UltimaCampanha\", IntegerType(), True),\n",
    "    ])\n",
    ")"
   ]
  },
  {
   "cell_type": "code",
   "execution_count": 7,
   "id": "cc5e2aea-3430-45e0-ad90-2146e93d4c5a",
   "metadata": {},
   "outputs": [],
   "source": [
    "df2= (\n",
    "    spark\n",
    "       .read\n",
    "       .format(\"csv\")\n",
    "       .option(\"header\", \"true\")\n",
    "       .option(\"delimiter\", \",\")\n",
    "       .load('gs://soulcodeprojeto/marketing_campaign.csv',schema=schema)\n",
    ")"
   ]
  },
  {
   "cell_type": "code",
   "execution_count": 8,
   "id": "2984728a-5ac7-44f9-9961-a08fbcec2e4a",
   "metadata": {},
   "outputs": [
    {
     "name": "stderr",
     "output_type": "stream",
     "text": [
      "22/03/18 21:29:07 WARN package: Truncated the string representation of a plan since it was too large. This behavior can be adjusted by setting 'spark.sql.debug.maxToStringFields'.\n",
      "[Stage 0:>                                                          (0 + 1) / 1]\r"
     ]
    },
    {
     "name": "stdout",
     "output_type": "stream",
     "text": [
      "+----+-------------+-------------+-----------+-------+----------+--------------+----------+------------+--------+---------+--------+--------+--------+-------+------------------+-------------+-----------------+-------------+--------------+-----------+-----------+-----------+-----------+-----------+----------+------------+-------+--------------+\n",
      "|  ID|AnoNascimento|GrauInstrução|EstadoCivil|  Renda|NumCrianca|NumAdolescente| DataConta|UltimaCompra|QtdVinho|QtdFrutas|QtdCarne|QtdPeixe|QtdDoces|QtdOuro|QtdComprasDesconto|QtdComprasWeb|QtdCompraCatalogo|QtdCompraLoja|NumVisitasSite|AceitouCam3|AceitouCam4|AceitouCam5|AceitouCam1|AceitouCam2|Reclamacao|CustoContato|Receita|UltimaCampanha|\n",
      "+----+-------------+-------------+-----------+-------+----------+--------------+----------+------------+--------+---------+--------+--------+--------+-------+------------------+-------------+-----------------+-------------+--------------+-----------+-----------+-----------+-----------+-----------+----------+------------+-------+--------------+\n",
      "|5524|         1957|   Graduation|     Single|58138.0|         0|             0|04-09-2012|          58|     635|       88|     546|     172|      88|     88|                 3|            8|               10|            4|             7|          0|          0|          0|          0|          0|         0|           3|     11|             1|\n",
      "|2174|         1954|   Graduation|     Single|46344.0|         1|             1|08-03-2014|          38|      11|        1|       6|       2|       1|      6|                 2|            1|                1|            2|             5|          0|          0|          0|          0|          0|         0|           3|     11|             0|\n",
      "|4141|         1965|   Graduation|   Together|71613.0|         0|             0|21-08-2013|          26|     426|       49|     127|     111|      21|     42|                 1|            8|                2|           10|             4|          0|          0|          0|          0|          0|         0|           3|     11|             0|\n",
      "|6182|         1984|   Graduation|   Together|26646.0|         1|             0|10-02-2014|          26|      11|        4|      20|      10|       3|      5|                 2|            2|                0|            4|             6|          0|          0|          0|          0|          0|         0|           3|     11|             0|\n",
      "|5324|         1981|          PhD|    Married|58293.0|         1|             0|19-01-2014|          94|     173|       43|     118|      46|      27|     15|                 5|            5|                3|            6|             5|          0|          0|          0|          0|          0|         0|           3|     11|             0|\n",
      "|7446|         1967|       Master|   Together|62513.0|         0|             1|09-09-2013|          16|     520|       42|      98|       0|      42|     14|                 2|            6|                4|           10|             6|          0|          0|          0|          0|          0|         0|           3|     11|             0|\n",
      "| 965|         1971|   Graduation|   Divorced|55635.0|         0|             1|13-11-2012|          34|     235|       65|     164|      50|      49|     27|                 4|            7|                3|            7|             6|          0|          0|          0|          0|          0|         0|           3|     11|             0|\n",
      "|6177|         1985|          PhD|    Married|33454.0|         1|             0|08-05-2013|          32|      76|       10|      56|       3|       1|     23|                 2|            4|                0|            4|             8|          0|          0|          0|          0|          0|         0|           3|     11|             0|\n",
      "|4855|         1974|          PhD|   Together|30351.0|         1|             0|06-06-2013|          19|      14|        0|      24|       3|       3|      2|                 1|            3|                0|            2|             9|          0|          0|          0|          0|          0|         0|           3|     11|             1|\n",
      "|5899|         1950|          PhD|   Together| 5648.0|         1|             1|13-03-2014|          68|      28|        0|       6|       1|       1|     13|                 1|            1|                0|            0|            20|          1|          0|          0|          0|          0|         0|           3|     11|             0|\n",
      "|1994|         1983|   Graduation|    Married|   null|         1|             0|15-11-2013|          11|       5|        5|       6|       0|       2|      1|                 1|            1|                0|            2|             7|          0|          0|          0|          0|          0|         0|           3|     11|             0|\n",
      "| 387|         1976|        Basic|    Married| 7500.0|         0|             0|13-11-2012|          59|       6|       16|      11|      11|       1|     16|                 1|            2|                0|            3|             8|          0|          0|          0|          0|          0|         0|           3|     11|             0|\n",
      "|2125|         1959|   Graduation|   Divorced|63033.0|         0|             0|15-11-2013|          82|     194|       61|     480|     225|     112|     30|                 1|            3|                4|            8|             2|          0|          0|          0|          0|          0|         0|           3|     11|             0|\n",
      "|8180|         1952|       Master|   Divorced|59354.0|         1|             1|15-11-2013|          53|     233|        2|      53|       3|       5|     14|                 3|            6|                1|            5|             6|          0|          0|          0|          0|          0|         0|           3|     11|             0|\n",
      "|2569|         1987|   Graduation|    Married|17323.0|         0|             0|10-10-2012|          38|       3|       14|      17|       6|       1|      5|                 1|            1|                0|            3|             8|          0|          0|          0|          0|          0|         0|           3|     11|             0|\n",
      "|2114|         1946|          PhD|     Single|82800.0|         0|             0|24-11-2012|          23|    1006|       22|     115|      59|      68|     45|                 1|            7|                6|           12|             3|          0|          0|          1|          1|          0|         0|           3|     11|             1|\n",
      "|9736|         1980|   Graduation|    Married|41850.0|         1|             1|24-12-2012|          51|      53|        5|      19|       2|      13|      4|                 3|            3|                0|            3|             8|          0|          0|          0|          0|          0|         0|           3|     11|             0|\n",
      "|4939|         1946|   Graduation|   Together|37760.0|         0|             0|31-08-2012|          20|      84|        5|      38|     150|      12|     28|                 2|            4|                1|            6|             7|          0|          0|          0|          0|          0|         0|           3|     11|             0|\n",
      "|6565|         1949|       Master|    Married|76995.0|         0|             1|28-03-2013|          91|    1012|       80|     498|       0|      16|    176|                 2|           11|                4|            9|             5|          0|          0|          0|          1|          0|         0|           3|     11|             0|\n",
      "|2278|         1985|     2n Cycle|     Single|33812.0|         1|             0|03-11-2012|          86|       4|       17|      19|      30|      24|     39|                 2|            2|                1|            3|             6|          0|          0|          0|          0|          0|         0|           3|     11|             0|\n",
      "+----+-------------+-------------+-----------+-------+----------+--------------+----------+------------+--------+---------+--------+--------+--------+-------+------------------+-------------+-----------------+-------------+--------------+-----------+-----------+-----------+-----------+-----------+----------+------------+-------+--------------+\n",
      "only showing top 20 rows\n",
      "\n"
     ]
    },
    {
     "name": "stderr",
     "output_type": "stream",
     "text": [
      "22/03/18 21:29:10 WARN CSVHeaderChecker: CSV header does not conform to the schema.\n",
      " Header: ID, Year_Birth, Education, Marital_Status, Income, Kidhome, Teenhome, Dt_Customer, Recency, MntWines, MntFruits, MntMeatProducts, MntFishProducts, MntSweetProducts, MntGoldProds, NumDealsPurchases, NumWebPurchases, NumCatalogPurchases, NumStorePurchases, NumWebVisitsMonth, AcceptedCmp3, AcceptedCmp4, AcceptedCmp5, AcceptedCmp1, AcceptedCmp2, Complain, Z_CostContact, Z_Revenue, Response\n",
      " Schema: ID, AnoNascimento, GrauInstrução, EstadoCivil, Renda, NumCrianca, NumAdolescente, DataConta, UltimaCompra, QtdVinho, QtdFrutas, QtdCarne, QtdPeixe, QtdDoces, QtdOuro, QtdComprasDesconto, QtdComprasWeb, QtdCompraCatalogo, QtdCompraLoja, NumVisitasSite, AceitouCam3, AceitouCam4, AceitouCam5, AceitouCam1, AceitouCam2, Reclamacao, CustoContato, Receita, UltimaCampanha\n",
      "Expected: AnoNascimento but found: Year_Birth\n",
      "CSV file: gs://soulcodeprojeto/marketing_campaign.csv\n",
      "                                                                                \r"
     ]
    }
   ],
   "source": [
    "df2.show()"
   ]
  },
  {
   "cell_type": "code",
   "execution_count": null,
   "id": "df0514ef-2585-45ee-b84f-fb9525853ee1",
   "metadata": {},
   "outputs": [],
   "source": []
  },
  {
   "cell_type": "code",
   "execution_count": null,
   "id": "eedcdbe2-a183-4351-b169-4017d5db1c69",
   "metadata": {},
   "outputs": [],
   "source": []
  },
  {
   "cell_type": "code",
   "execution_count": null,
   "id": "6b4c8d9f-c9d8-4502-af94-93c94cb4c2c9",
   "metadata": {},
   "outputs": [],
   "source": []
  },
  {
   "cell_type": "code",
   "execution_count": null,
   "id": "4ea56329-e98a-42c6-b8e7-82d3a1a440d6",
   "metadata": {},
   "outputs": [],
   "source": []
  },
  {
   "cell_type": "code",
   "execution_count": null,
   "id": "26930665-902c-4a67-bd73-6f5200646f5a",
   "metadata": {},
   "outputs": [],
   "source": []
  },
  {
   "cell_type": "code",
   "execution_count": null,
   "id": "84170cec-c511-473a-ab4e-a33aaad2424e",
   "metadata": {},
   "outputs": [],
   "source": []
  },
  {
   "cell_type": "code",
   "execution_count": null,
   "id": "5c1638cf-f9a1-48d4-96a2-de3f5906e8b7",
   "metadata": {},
   "outputs": [],
   "source": []
  },
  {
   "cell_type": "code",
   "execution_count": null,
   "id": "2bf1cbbd-c385-49a6-bf88-ffe9a63c1966",
   "metadata": {},
   "outputs": [],
   "source": []
  },
  {
   "cell_type": "code",
   "execution_count": null,
   "id": "39559d59-e6cf-4be0-9739-05e9008ce2f4",
   "metadata": {},
   "outputs": [],
   "source": []
  },
  {
   "cell_type": "code",
   "execution_count": null,
   "id": "7472f9d2-f871-4f79-84d5-1ed814c43fe4",
   "metadata": {},
   "outputs": [],
   "source": []
  },
  {
   "cell_type": "code",
   "execution_count": null,
   "id": "baf6f57f-94a8-43b4-a279-85acf3aa72ea",
   "metadata": {},
   "outputs": [],
   "source": []
  },
  {
   "cell_type": "code",
   "execution_count": null,
   "id": "b0281384-846a-4b1a-a8dc-9dbb2f176320",
   "metadata": {},
   "outputs": [],
   "source": []
  },
  {
   "cell_type": "code",
   "execution_count": null,
   "id": "fe6098e7-17c7-428c-ae31-e288ebdb9002",
   "metadata": {},
   "outputs": [],
   "source": []
  }
 ],
 "metadata": {
  "kernelspec": {
   "display_name": "Python 3 (ipykernel)",
   "language": "python",
   "name": "python3"
  },
  "language_info": {
   "codemirror_mode": {
    "name": "ipython",
    "version": 3
   },
   "file_extension": ".py",
   "mimetype": "text/x-python",
   "name": "python",
   "nbconvert_exporter": "python",
   "pygments_lexer": "ipython3",
   "version": "3.9.7"
  }
 },
 "nbformat": 4,
 "nbformat_minor": 5
}
