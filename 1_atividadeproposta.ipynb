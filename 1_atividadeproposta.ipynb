{
 "cells": [
  {
   "cell_type": "markdown",
   "id": "edf6c8b4-4887-4614-b8f6-901a05e638eb",
   "metadata": {},
   "source": [
    "# PROJETO INDIVUAL \n",
    "\n",
    "\n",
    "## Nivel Infra\n",
    "* O Dataset deve ser salvo em ambiente cloud(Cloud Storage)\n",
    "* O arquivo original e tratado deve ser salvo em MongoDB Atlas em coleções diferentes\n",
    "* Os DataFrames devem ser obrigatoriamente salvos em uma bucket do CloudStorage\n",
    "## Nivel Pandas\n",
    "* O arquivo está em outra linguagem e deve ter seus dados traduzidos para Português-BR\n",
    "* Realizar a extração corretamente para um dataframe\n",
    "* Verificar a existência de dados inconsistentes e realizar a limpeza para NaN ou NA\n",
    "* Realizar o drop(se necessário) de colunas do dataframe realizando o comentário do porque da exclusão \n",
    "* Todos os passos devem ser comentados\n",
    "## Nivel PySpark (Funções básicas vistas em aula)\n",
    "* Deverá ser montada a estrutura do DataFrame utilizando o StructType.\n",
    "* Verificar a existência de dados inconsistentes, nulos e realizar a limpeza.\n",
    "* Verificar a necessidade de drop em colunas ou linhas. Caso seja necessário, fazer comentário do porque.\n",
    "* Realizar a mudança de nome de pelo menos 2 colunas\n",
    "* Deverá criar pelo menos duas novas colunas contendo alguma informação relevante sobre as outras colunas já existentes (Funções de Agrupamento, Agregação ou Joins). (Use a sua capacidade analítica)\n",
    "* Deverá utilizar filtros, ordenação e agrupamento, trazendo dados relevantes para o negócio em questão. (Use a sua capacidade analítica)\n",
    "* Utilizar pelo menos duas Window Functions\n",
    "* Nivel SparkSQL\n",
    "* Utilizar no minimo 5 consultas diferentes utilizando o SparkSQL, comentando o porquê de ter escolhido essas funções e explicando o que cada consulta faz.\n",
    "\n",
    "\n",
    "## Ferramentas\n",
    "\n",
    "\n",
    "Colab ou Ides | Google Cloud\n",
    "\n",
    "\n",
    "Observação : o que será analisado são os tópicos cumpridos , na ocasião de findar o tempo e algum(ns) não forem contemplados , realize a entrega do que foi concluído . Pedimos que nos conceda acesso ao email professores.bcw4@soulcodeacademy.org para seu projeto no google cloud , adicione um usuário : soulcode senha : a1b2c3 no mongo atlas e compartilhe junto a key de autenticação para acessarmos seu mongo atlas e seja enviado juntamente com o codigo realizado"
   ]
  },
  {
   "cell_type": "code",
   "execution_count": null,
   "id": "68d171f2-8ba1-4f56-a35a-43ef5af2b75e",
   "metadata": {},
   "outputs": [],
   "source": []
  }
 ],
 "metadata": {
  "kernelspec": {
   "display_name": "Python 3",
   "language": "python",
   "name": "python3"
  },
  "language_info": {
   "codemirror_mode": {
    "name": "ipython",
    "version": 3
   },
   "file_extension": ".py",
   "mimetype": "text/x-python",
   "name": "python",
   "nbconvert_exporter": "python",
   "pygments_lexer": "ipython3",
   "version": "3.9.7"
  }
 },
 "nbformat": 4,
 "nbformat_minor": 5
}
